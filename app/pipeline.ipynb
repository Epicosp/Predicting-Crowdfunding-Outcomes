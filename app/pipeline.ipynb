{
 "cells": [
  {
   "cell_type": "code",
   "execution_count": 1,
   "metadata": {},
   "outputs": [],
   "source": [
    "import pandas as pd\n",
    "import numpy as np\n",
    "import matplotlib.pyplot as plt\n",
    "import pickle\n",
    "\n",
    "from sqlalchemy import create_engine\n",
    "from dotenv import load_dotenv\n",
    "import os\n",
    "\n",
    "from sklearn.preprocessing import StandardScaler, OneHotEncoder\n",
    "from sklearn.model_selection import train_test_split\n",
    "\n",
    "from sklearn.ensemble import RandomForestClassifier\n",
    "from sklearn.svm import SVC\n",
    "from sklearn.neural_network import MLPClassifier\n",
    "\n",
    "from sklearn.metrics import classification_report\n",
    "from sklearn.metrics import confusion_matrix\n",
    "from sklearn.model_selection import cross_val_score\n",
    "\n",
    "from sklearn.compose import make_column_transformer\n",
    "from sklearn.pipeline import make_pipeline\n",
    "\n",
    "# Find the dataset @ (CSV files 2022-04-21, https://webrobots.io/kickstarter-datasets/)\n",
    "# download link: https://s3.amazonaws.com/weruns/forfun/Kickstarter/Kickstarter_2022-04-21T03_20_08_060Z.zip"
   ]
  },
  {
   "cell_type": "code",
   "execution_count": 2,
   "metadata": {},
   "outputs": [],
   "source": [
    "# get db connection\n",
    "load_dotenv()\n",
    "db_connection = os.getenv(\"KICKSTARTER_DB_URL\")\n",
    "\n",
    "# init database engine\n",
    "engine = create_engine(db_connection)"
   ]
  },
  {
   "cell_type": "code",
   "execution_count": 3,
   "metadata": {},
   "outputs": [
    {
     "data": {
      "text/html": [
       "<div>\n",
       "<style scoped>\n",
       "    .dataframe tbody tr th:only-of-type {\n",
       "        vertical-align: middle;\n",
       "    }\n",
       "\n",
       "    .dataframe tbody tr th {\n",
       "        vertical-align: top;\n",
       "    }\n",
       "\n",
       "    .dataframe thead th {\n",
       "        text-align: right;\n",
       "    }\n",
       "</style>\n",
       "<table border=\"1\" class=\"dataframe\">\n",
       "  <thead>\n",
       "    <tr style=\"text-align: right;\">\n",
       "      <th></th>\n",
       "      <th>state</th>\n",
       "      <th>country</th>\n",
       "      <th>fx_rate</th>\n",
       "      <th>goal</th>\n",
       "      <th>created_at</th>\n",
       "      <th>launched_at</th>\n",
       "      <th>state_changed_at</th>\n",
       "      <th>deadline</th>\n",
       "      <th>parent_name</th>\n",
       "      <th>name</th>\n",
       "    </tr>\n",
       "  </thead>\n",
       "  <tbody>\n",
       "    <tr>\n",
       "      <th>0</th>\n",
       "      <td>successful</td>\n",
       "      <td>US</td>\n",
       "      <td>1.000000</td>\n",
       "      <td>5000.0</td>\n",
       "      <td>1609376406</td>\n",
       "      <td>1609545583</td>\n",
       "      <td>1611968831</td>\n",
       "      <td>1611968831</td>\n",
       "      <td>Food</td>\n",
       "      <td>Cookbooks</td>\n",
       "    </tr>\n",
       "    <tr>\n",
       "      <th>1</th>\n",
       "      <td>successful</td>\n",
       "      <td>HK</td>\n",
       "      <td>0.127500</td>\n",
       "      <td>350000.0</td>\n",
       "      <td>1606278560</td>\n",
       "      <td>1608912106</td>\n",
       "      <td>1614096106</td>\n",
       "      <td>1614096106</td>\n",
       "      <td>Food</td>\n",
       "      <td>Cookbooks</td>\n",
       "    </tr>\n",
       "    <tr>\n",
       "      <th>2</th>\n",
       "      <td>successful</td>\n",
       "      <td>ES</td>\n",
       "      <td>1.081901</td>\n",
       "      <td>50.0</td>\n",
       "      <td>1606477096</td>\n",
       "      <td>1606751262</td>\n",
       "      <td>1607900340</td>\n",
       "      <td>1607900340</td>\n",
       "      <td>Food</td>\n",
       "      <td>Cookbooks</td>\n",
       "    </tr>\n",
       "    <tr>\n",
       "      <th>3</th>\n",
       "      <td>successful</td>\n",
       "      <td>US</td>\n",
       "      <td>1.000000</td>\n",
       "      <td>65000.0</td>\n",
       "      <td>1604500905</td>\n",
       "      <td>1606194068</td>\n",
       "      <td>1610082068</td>\n",
       "      <td>1610082068</td>\n",
       "      <td>Food</td>\n",
       "      <td>Cookbooks</td>\n",
       "    </tr>\n",
       "    <tr>\n",
       "      <th>4</th>\n",
       "      <td>successful</td>\n",
       "      <td>GB</td>\n",
       "      <td>1.304140</td>\n",
       "      <td>10600.0</td>\n",
       "      <td>1605454727</td>\n",
       "      <td>1605981895</td>\n",
       "      <td>1608573895</td>\n",
       "      <td>1608573895</td>\n",
       "      <td>Food</td>\n",
       "      <td>Cookbooks</td>\n",
       "    </tr>\n",
       "  </tbody>\n",
       "</table>\n",
       "</div>"
      ],
      "text/plain": [
       "        state country   fx_rate      goal  created_at  launched_at  \\\n",
       "0  successful      US  1.000000    5000.0  1609376406   1609545583   \n",
       "1  successful      HK  0.127500  350000.0  1606278560   1608912106   \n",
       "2  successful      ES  1.081901      50.0  1606477096   1606751262   \n",
       "3  successful      US  1.000000   65000.0  1604500905   1606194068   \n",
       "4  successful      GB  1.304140   10600.0  1605454727   1605981895   \n",
       "\n",
       "   state_changed_at    deadline parent_name       name  \n",
       "0        1611968831  1611968831        Food  Cookbooks  \n",
       "1        1614096106  1614096106        Food  Cookbooks  \n",
       "2        1607900340  1607900340        Food  Cookbooks  \n",
       "3        1610082068  1610082068        Food  Cookbooks  \n",
       "4        1608573895  1608573895        Food  Cookbooks  "
      ]
     },
     "execution_count": 3,
     "metadata": {},
     "output_type": "execute_result"
    }
   ],
   "source": [
    "# Query the database for data to build models.\n",
    "query = \"\"\"\n",
    "        SELECT  kickstarters.state, \n",
    "                country, \n",
    "                fx_rate, \n",
    "                goal, \n",
    "                created_at, \n",
    "                launched_at, \n",
    "                kickstarters.state_changed_at, \n",
    "                deadline, \n",
    "                parent_name,\n",
    "                category.name\n",
    "        FROM kickstarters\n",
    "        INNER JOIN category\n",
    "        ON kickstarters.id=category.kickstarter_id\n",
    "        WHERE state='failed' OR state='successful';\n",
    "        \"\"\"\n",
    "        #  \t\n",
    "model_data = pd.read_sql(query, engine)\n",
    "model_data.head()"
   ]
  },
  {
   "cell_type": "code",
   "execution_count": 4,
   "metadata": {},
   "outputs": [
    {
     "data": {
      "text/html": [
       "<div>\n",
       "<style scoped>\n",
       "    .dataframe tbody tr th:only-of-type {\n",
       "        vertical-align: middle;\n",
       "    }\n",
       "\n",
       "    .dataframe tbody tr th {\n",
       "        vertical-align: top;\n",
       "    }\n",
       "\n",
       "    .dataframe thead th {\n",
       "        text-align: right;\n",
       "    }\n",
       "</style>\n",
       "<table border=\"1\" class=\"dataframe\">\n",
       "  <thead>\n",
       "    <tr style=\"text-align: right;\">\n",
       "      <th></th>\n",
       "      <th>state</th>\n",
       "      <th>country</th>\n",
       "      <th>parent_name</th>\n",
       "      <th>name</th>\n",
       "      <th>goal_usd</th>\n",
       "      <th>total_days_active</th>\n",
       "      <th>launch_time</th>\n",
       "    </tr>\n",
       "  </thead>\n",
       "  <tbody>\n",
       "    <tr>\n",
       "      <th>0</th>\n",
       "      <td>successful</td>\n",
       "      <td>US</td>\n",
       "      <td>Food</td>\n",
       "      <td>Cookbooks</td>\n",
       "      <td>5000.000000</td>\n",
       "      <td>28.036979</td>\n",
       "      <td>1.957378</td>\n",
       "    </tr>\n",
       "    <tr>\n",
       "      <th>1</th>\n",
       "      <td>successful</td>\n",
       "      <td>HK</td>\n",
       "      <td>Food</td>\n",
       "      <td>Cookbooks</td>\n",
       "      <td>44624.926500</td>\n",
       "      <td>59.978880</td>\n",
       "      <td>30.470127</td>\n",
       "    </tr>\n",
       "    <tr>\n",
       "      <th>2</th>\n",
       "      <td>successful</td>\n",
       "      <td>ES</td>\n",
       "      <td>Food</td>\n",
       "      <td>Cookbooks</td>\n",
       "      <td>54.095050</td>\n",
       "      <td>13.294832</td>\n",
       "      <td>3.172101</td>\n",
       "    </tr>\n",
       "    <tr>\n",
       "      <th>3</th>\n",
       "      <td>successful</td>\n",
       "      <td>US</td>\n",
       "      <td>Food</td>\n",
       "      <td>Cookbooks</td>\n",
       "      <td>65000.000000</td>\n",
       "      <td>44.984160</td>\n",
       "      <td>19.589896</td>\n",
       "    </tr>\n",
       "    <tr>\n",
       "      <th>4</th>\n",
       "      <td>successful</td>\n",
       "      <td>GB</td>\n",
       "      <td>Food</td>\n",
       "      <td>Cookbooks</td>\n",
       "      <td>13823.881138</td>\n",
       "      <td>29.989440</td>\n",
       "      <td>6.099334</td>\n",
       "    </tr>\n",
       "  </tbody>\n",
       "</table>\n",
       "</div>"
      ],
      "text/plain": [
       "        state country parent_name       name      goal_usd  total_days_active  \\\n",
       "0  successful      US        Food  Cookbooks   5000.000000          28.036979   \n",
       "1  successful      HK        Food  Cookbooks  44624.926500          59.978880   \n",
       "2  successful      ES        Food  Cookbooks     54.095050          13.294832   \n",
       "3  successful      US        Food  Cookbooks  65000.000000          44.984160   \n",
       "4  successful      GB        Food  Cookbooks  13823.881138          29.989440   \n",
       "\n",
       "   launch_time  \n",
       "0     1.957378  \n",
       "1    30.470127  \n",
       "2     3.172101  \n",
       "3    19.589896  \n",
       "4     6.099334  "
      ]
     },
     "execution_count": 4,
     "metadata": {},
     "output_type": "execute_result"
    }
   ],
   "source": [
    "# create goal_usd column so that all goal amounts are in the same units, drop fx_rate and goals afterward\n",
    "model_data['goal_usd'] = model_data['fx_rate']*model_data['goal']\n",
    "model_data = model_data.drop(columns=['fx_rate', 'goal'])\n",
    "\n",
    "# create total days active column as another metric\n",
    "model_data['total_days_active'] = (model_data.deadline-model_data.launched_at)*0.00001157\n",
    "model_data['launch_time'] = (model_data.launched_at-model_data.created_at)*0.00001157\n",
    "model_data = model_data.drop(columns=['state_changed_at', 'deadline', 'launched_at', 'created_at'])\n",
    "\n",
    "# Drop NA's (before pipeline, maybe later version could impute missing values)\n",
    "model_data = model_data.dropna()\n",
    "\n",
    "model_data.head()"
   ]
  },
  {
   "cell_type": "code",
   "execution_count": 5,
   "metadata": {},
   "outputs": [],
   "source": [
    "# split into X and y variables\n",
    "X = model_data.drop(columns=['state'])\n",
    "y = model_data.state\n",
    "\n",
    "# generate 70% train/test split \n",
    "X_train, X_test, y_train, y_test = train_test_split(X, y, test_size=0.3, stratify=y, random_state = 1)"
   ]
  },
  {
   "cell_type": "markdown",
   "metadata": {},
   "source": [
    "## Begin building pipeline"
   ]
  },
  {
   "cell_type": "code",
   "execution_count": 6,
   "metadata": {},
   "outputs": [],
   "source": [
    "# encoding transformer\n",
    "encoding_columns = list((X.select_dtypes(include=['bool', 'object'])).columns)\n",
    "scaling_columns = list((X.select_dtypes(include=['int', 'float'])).columns)\n",
    "\n",
    "column_transformer = make_column_transformer(\n",
    "    (OneHotEncoder(handle_unknown='ignore'), encoding_columns),\n",
    "    (StandardScaler(), scaling_columns),\n",
    "    remainder='drop'\n",
    "    )"
   ]
  },
  {
   "cell_type": "markdown",
   "metadata": {},
   "source": [
    "### Random Forest pipeline"
   ]
  },
  {
   "cell_type": "code",
   "execution_count": 7,
   "metadata": {},
   "outputs": [
    {
     "name": "stdout",
     "output_type": "stream",
     "text": [
      "              precision    recall  f1-score   support\n",
      "\n",
      "      failed       0.71      0.69      0.70      2759\n",
      "  successful       0.84      0.86      0.85      5407\n",
      "\n",
      "    accuracy                           0.80      8166\n",
      "   macro avg       0.78      0.77      0.78      8166\n",
      "weighted avg       0.80      0.80      0.80      8166\n",
      "\n"
     ]
    }
   ],
   "source": [
    "# init and fit RF classifier\n",
    "rf_classifier = RandomForestClassifier()\n",
    "rf_pipe = make_pipeline(column_transformer, rf_classifier)\n",
    "rf_pipe.fit(X_train, y_train)\n",
    "\n",
    "# perform predictions on testing and validation data\n",
    "rf_predictions  = rf_pipe.predict(X_test)\n",
    "\n",
    "# classification reports for the test and validation set\n",
    "rf_report = classification_report(y_test, rf_predictions)\n",
    "print (rf_report)"
   ]
  },
  {
   "cell_type": "code",
   "execution_count": 8,
   "metadata": {},
   "outputs": [],
   "source": [
    "# pickle the model\n",
    "pickle.dump(rf_pipe, open('rf_pipe.sav', 'wb'))"
   ]
  },
  {
   "cell_type": "markdown",
   "metadata": {},
   "source": [
    "### SVM pipeline"
   ]
  },
  {
   "cell_type": "code",
   "execution_count": 9,
   "metadata": {},
   "outputs": [
    {
     "name": "stderr",
     "output_type": "stream",
     "text": [
      "/Users/stuartperry/opt/anaconda3/envs/dev/lib/python3.7/site-packages/sklearn/svm/_base.py:289: ConvergenceWarning: Solver terminated early (max_iter=500).  Consider pre-processing your data with StandardScaler or MinMaxScaler.\n",
      "  ConvergenceWarning,\n"
     ]
    },
    {
     "name": "stdout",
     "output_type": "stream",
     "text": [
      "              precision    recall  f1-score   support\n",
      "\n",
      "      failed       0.83      0.02      0.03      2759\n",
      "  successful       0.67      1.00      0.80      5407\n",
      "\n",
      "    accuracy                           0.67      8166\n",
      "   macro avg       0.75      0.51      0.42      8166\n",
      "weighted avg       0.72      0.67      0.54      8166\n",
      "\n"
     ]
    }
   ],
   "source": [
    "# init and fit RF classifier\n",
    "svm_classifier = SVC(kernel='linear', max_iter=500)\n",
    "svm_pipe = make_pipeline(column_transformer, svm_classifier)\n",
    "svm_pipe.fit(X_train, y_train)\n",
    "\n",
    "# perform predictions on testing and validation data\n",
    "svm_predictions  = svm_pipe.predict(X_test)\n",
    "\n",
    "# classification reports for the test and validation set\n",
    "svm_report = classification_report(y_test, svm_predictions)\n",
    "print (svm_report)"
   ]
  },
  {
   "cell_type": "code",
   "execution_count": 10,
   "metadata": {},
   "outputs": [],
   "source": [
    "# pickle the model\n",
    "pickle.dump(svm_pipe, open('svm_pipe.sav', 'wb'))"
   ]
  },
  {
   "cell_type": "markdown",
   "metadata": {},
   "source": [
    "### Neural network pipeline"
   ]
  },
  {
   "cell_type": "code",
   "execution_count": 11,
   "metadata": {},
   "outputs": [
    {
     "name": "stderr",
     "output_type": "stream",
     "text": [
      "/Users/stuartperry/opt/anaconda3/envs/dev/lib/python3.7/site-packages/sklearn/neural_network/_multilayer_perceptron.py:549: ConvergenceWarning: lbfgs failed to converge (status=1):\n",
      "STOP: TOTAL NO. of ITERATIONS REACHED LIMIT.\n",
      "\n",
      "Increase the number of iterations (max_iter) or scale the data as shown in:\n",
      "    https://scikit-learn.org/stable/modules/preprocessing.html\n",
      "  self.n_iter_ = _check_optimize_result(\"lbfgs\", opt_res, self.max_iter)\n"
     ]
    },
    {
     "name": "stdout",
     "output_type": "stream",
     "text": [
      "              precision    recall  f1-score   support\n",
      "\n",
      "      failed       0.72      0.66      0.69      2759\n",
      "  successful       0.83      0.87      0.85      5407\n",
      "\n",
      "    accuracy                           0.80      8166\n",
      "   macro avg       0.77      0.76      0.77      8166\n",
      "weighted avg       0.79      0.80      0.79      8166\n",
      "\n"
     ]
    }
   ],
   "source": [
    "# init and fit RF classifier\n",
    "nn_classifier = MLPClassifier(solver='lbfgs', alpha=1e-5, hidden_layer_sizes=(4, 2), random_state=1)\n",
    "nn_pipe = make_pipeline(column_transformer, nn_classifier)\n",
    "nn_pipe.fit(X_train, y_train)\n",
    "\n",
    "# perform predictions on testing and validation data\n",
    "nn_predictions  = nn_pipe.predict(X_test)\n",
    "\n",
    "# classification reports for the test and validation set\n",
    "nn_report = classification_report(y_test, nn_predictions)\n",
    "print (nn_report)"
   ]
  },
  {
   "cell_type": "code",
   "execution_count": 12,
   "metadata": {},
   "outputs": [],
   "source": [
    "# pickle the model\n",
    "pickle.dump(nn_pipe, open('nn_pipe.sav', 'wb'))"
   ]
  }
 ],
 "metadata": {
  "interpreter": {
   "hash": "097c1c50147d69c70dea14784d774fa19f0c571c55d8af2791c45a24b5968fed"
  },
  "kernelspec": {
   "display_name": "Python 3.7.7 ('dev')",
   "language": "python",
   "name": "python3"
  },
  "language_info": {
   "codemirror_mode": {
    "name": "ipython",
    "version": 3
   },
   "file_extension": ".py",
   "mimetype": "text/x-python",
   "name": "python",
   "nbconvert_exporter": "python",
   "pygments_lexer": "ipython3",
   "version": "3.7.7"
  }
 },
 "nbformat": 4,
 "nbformat_minor": 2
}
