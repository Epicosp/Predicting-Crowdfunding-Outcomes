{
 "cells": [
  {
   "cell_type": "code",
   "execution_count": 1,
   "metadata": {},
   "outputs": [],
   "source": [
    "import pandas as pd\n",
    "import numpy as np\n",
    "import os.path\n",
    "from pathlib import Path\n",
    "import glob\n",
    "import json\n",
    "import datetime\n",
    "import matplotlib.pyplot as plt\n",
    "\n",
    "from sklearn.preprocessing import LabelEncoder, OrdinalEncoder, StandardScaler, MinMaxScaler\n",
    "from sklearn.model_selection import train_test_split\n",
    "\n",
    "from sklearn.ensemble import RandomForestClassifier\n",
    "from sklearn.metrics import classification_report\n",
    "from sklearn.metrics import confusion_matrix\n",
    "from sklearn.metrics import roc_curve, auc\n",
    "\n",
    "from sklearn.svm import SVC\n",
    "\n",
    "\n",
    "from sklearn.neural_network import MLPClassifier\n",
    "from sklearn.datasets import make_classification\n",
    "\n",
    "import xgboost as xgb\n",
    "\n",
    "# Find the dataset @ (CSV files 2022-04-21, https://webrobots.io/kickstarter-datasets/)\n",
    "# download link: https://s3.amazonaws.com/weruns/forfun/Kickstarter/Kickstarter_2022-04-21T03_20_08_060Z.zip"
   ]
  },
  {
   "cell_type": "markdown",
   "metadata": {},
   "source": [
    "### Create master Data Frame\n",
    "before running this code, create a folder inside the repo folder called 'raw_data' containing the exctracted CSV files from the download link.\n",
    "\n",
    "The code will create a new directory called 'data' to store the processed data."
   ]
  },
  {
   "cell_type": "code",
   "execution_count": 2,
   "metadata": {},
   "outputs": [
    {
     "name": "stdout",
     "output_type": "stream",
     "text": [
      "directory already exists\n"
     ]
    }
   ],
   "source": [
    "# create folder inside the current directory to hold the processed data\n",
    "try:\n",
    "    Path('data').mkdir(parents=True, exist_ok=False)\n",
    "    print ('creating data directory')\n",
    "except:\n",
    "    print ('directory already exists')\n",
    "    pass"
   ]
  },
  {
   "cell_type": "code",
   "execution_count": 3,
   "metadata": {},
   "outputs": [],
   "source": [
    "# path to each file in the all_data folder\n",
    "all_paths = glob.glob('raw_data/*.csv')\n",
    "\n",
    "# list to append df's to\n",
    "list_of_df = []\n",
    "\n",
    "# loop through all paths and append each csv as a df\n",
    "for filename in all_paths:\n",
    "    df = pd.read_csv(filename, index_col=None, header=0)\n",
    "    list_of_df.append(df)\n",
    "\n",
    "# concat all df's into one df\n",
    "master_df = pd.concat(list_of_df, axis=0, ignore_index=True)\n",
    "\n",
    "# save df as master csv\n",
    "master_df.to_csv('data/master_df.csv', index=False)"
   ]
  },
  {
   "cell_type": "markdown",
   "metadata": {},
   "source": [
    "### Unpack columns containing JSON objects\n",
    "The code below takes all columns that represent dictionaries and saves them as individual csv files."
   ]
  },
  {
   "cell_type": "code",
   "execution_count": 4,
   "metadata": {},
   "outputs": [],
   "source": [
    "def make_json(string):\n",
    "    '''\n",
    "    converts the string representation of a json object into a python dict.\n",
    "    returns np.nan if the string contains commas.\n",
    "    '''\n",
    "    try:\n",
    "        # replace single quotations to make the string represent a JSON object\n",
    "        json_acceptable_string = string.replace(\"'\", \"\\\"\")\n",
    "        return(json.loads(json_acceptable_string))\n",
    "    except:\n",
    "        # if the string is still not JSON compatible return np.nan\n",
    "        return np.nan"
   ]
  },
  {
   "cell_type": "code",
   "execution_count": 5,
   "metadata": {},
   "outputs": [],
   "source": [
    "def unpack(data_frame, column):\n",
    "    '''\n",
    "    unpacks dict in column to dataframe.\n",
    "    '''\n",
    "    # convert all strings into JSON objects\n",
    "    unpacked = data_frame[column].apply(make_json).to_frame()\n",
    "\n",
    "    # unpack JSON into DataFrame (future version should include 'id' column to reference whan performing merge/concat operations)\n",
    "    return pd.json_normalize(unpacked[column])"
   ]
  },
  {
   "cell_type": "code",
   "execution_count": 6,
   "metadata": {},
   "outputs": [],
   "source": [
    "# define which columns are represented as dicts\n",
    "unpack_list = ['category', 'creator', 'location', 'photo', 'profile', 'urls']\n",
    "\n",
    "# unpack each column of dicts, save each as their own csv\n",
    "for value in unpack_list:\n",
    "    frame = unpack(master_df, value)\n",
    "    frame.to_csv(f'data/{value}.csv', index=False)  "
   ]
  },
  {
   "cell_type": "code",
   "execution_count": 7,
   "metadata": {},
   "outputs": [],
   "source": [
    "# read category data for name and parent name\n",
    "df_category = pd.read_csv('data/category.csv')\n",
    "df_category = df_category[['name', 'parent_name']]"
   ]
  },
  {
   "cell_type": "code",
   "execution_count": 8,
   "metadata": {},
   "outputs": [
    {
     "data": {
      "text/html": [
       "<div>\n",
       "<style scoped>\n",
       "    .dataframe tbody tr th:only-of-type {\n",
       "        vertical-align: middle;\n",
       "    }\n",
       "\n",
       "    .dataframe tbody tr th {\n",
       "        vertical-align: top;\n",
       "    }\n",
       "\n",
       "    .dataframe thead th {\n",
       "        text-align: right;\n",
       "    }\n",
       "</style>\n",
       "<table border=\"1\" class=\"dataframe\">\n",
       "  <thead>\n",
       "    <tr style=\"text-align: right;\">\n",
       "      <th></th>\n",
       "      <th>country</th>\n",
       "      <th>created_at</th>\n",
       "      <th>state</th>\n",
       "      <th>goal_usd</th>\n",
       "      <th>name</th>\n",
       "      <th>parent_name</th>\n",
       "      <th>total_days_active</th>\n",
       "      <th>launch_time</th>\n",
       "    </tr>\n",
       "  </thead>\n",
       "  <tbody>\n",
       "    <tr>\n",
       "      <th>0</th>\n",
       "      <td>US</td>\n",
       "      <td>1609376406</td>\n",
       "      <td>successful</td>\n",
       "      <td>5000.000000</td>\n",
       "      <td>Cookbooks</td>\n",
       "      <td>Food</td>\n",
       "      <td>28.036979</td>\n",
       "      <td>1.957378</td>\n",
       "    </tr>\n",
       "    <tr>\n",
       "      <th>1</th>\n",
       "      <td>HK</td>\n",
       "      <td>1606278560</td>\n",
       "      <td>successful</td>\n",
       "      <td>44624.926500</td>\n",
       "      <td>Cookbooks</td>\n",
       "      <td>Food</td>\n",
       "      <td>59.978880</td>\n",
       "      <td>30.470127</td>\n",
       "    </tr>\n",
       "    <tr>\n",
       "      <th>2</th>\n",
       "      <td>ES</td>\n",
       "      <td>1606477096</td>\n",
       "      <td>successful</td>\n",
       "      <td>54.095050</td>\n",
       "      <td>Cookbooks</td>\n",
       "      <td>Food</td>\n",
       "      <td>13.294832</td>\n",
       "      <td>3.172101</td>\n",
       "    </tr>\n",
       "    <tr>\n",
       "      <th>3</th>\n",
       "      <td>US</td>\n",
       "      <td>1604500905</td>\n",
       "      <td>successful</td>\n",
       "      <td>65000.000000</td>\n",
       "      <td>Cookbooks</td>\n",
       "      <td>Food</td>\n",
       "      <td>44.984160</td>\n",
       "      <td>19.589896</td>\n",
       "    </tr>\n",
       "    <tr>\n",
       "      <th>4</th>\n",
       "      <td>GB</td>\n",
       "      <td>1605454727</td>\n",
       "      <td>successful</td>\n",
       "      <td>13823.881138</td>\n",
       "      <td>Cookbooks</td>\n",
       "      <td>Food</td>\n",
       "      <td>29.989440</td>\n",
       "      <td>6.099334</td>\n",
       "    </tr>\n",
       "    <tr>\n",
       "      <th>...</th>\n",
       "      <td>...</td>\n",
       "      <td>...</td>\n",
       "      <td>...</td>\n",
       "      <td>...</td>\n",
       "      <td>...</td>\n",
       "      <td>...</td>\n",
       "      <td>...</td>\n",
       "      <td>...</td>\n",
       "    </tr>\n",
       "    <tr>\n",
       "      <th>30987</th>\n",
       "      <td>US</td>\n",
       "      <td>1632678330</td>\n",
       "      <td>failed</td>\n",
       "      <td>10000.000000</td>\n",
       "      <td>Software</td>\n",
       "      <td>Technology</td>\n",
       "      <td>14.994720</td>\n",
       "      <td>3.986328</td>\n",
       "    </tr>\n",
       "    <tr>\n",
       "      <th>30988</th>\n",
       "      <td>CA</td>\n",
       "      <td>1632726042</td>\n",
       "      <td>failed</td>\n",
       "      <td>39722.546000</td>\n",
       "      <td>Software</td>\n",
       "      <td>Technology</td>\n",
       "      <td>60.020532</td>\n",
       "      <td>2.673549</td>\n",
       "    </tr>\n",
       "    <tr>\n",
       "      <th>30989</th>\n",
       "      <td>DK</td>\n",
       "      <td>1631517750</td>\n",
       "      <td>failed</td>\n",
       "      <td>145430.220000</td>\n",
       "      <td>Software</td>\n",
       "      <td>Technology</td>\n",
       "      <td>29.989440</td>\n",
       "      <td>15.026699</td>\n",
       "    </tr>\n",
       "    <tr>\n",
       "      <th>30990</th>\n",
       "      <td>US</td>\n",
       "      <td>1429554526</td>\n",
       "      <td>failed</td>\n",
       "      <td>35000.000000</td>\n",
       "      <td>Plays</td>\n",
       "      <td>Theater</td>\n",
       "      <td>29.989440</td>\n",
       "      <td>8.875729</td>\n",
       "    </tr>\n",
       "    <tr>\n",
       "      <th>30991</th>\n",
       "      <td>US</td>\n",
       "      <td>1430004537</td>\n",
       "      <td>failed</td>\n",
       "      <td>5000.000000</td>\n",
       "      <td>Plays</td>\n",
       "      <td>Theater</td>\n",
       "      <td>32.988523</td>\n",
       "      <td>2.753093</td>\n",
       "    </tr>\n",
       "  </tbody>\n",
       "</table>\n",
       "<p>30992 rows × 8 columns</p>\n",
       "</div>"
      ],
      "text/plain": [
       "      country  created_at       state       goal_usd       name parent_name  \\\n",
       "0          US  1609376406  successful    5000.000000  Cookbooks        Food   \n",
       "1          HK  1606278560  successful   44624.926500  Cookbooks        Food   \n",
       "2          ES  1606477096  successful      54.095050  Cookbooks        Food   \n",
       "3          US  1604500905  successful   65000.000000  Cookbooks        Food   \n",
       "4          GB  1605454727  successful   13823.881138  Cookbooks        Food   \n",
       "...       ...         ...         ...            ...        ...         ...   \n",
       "30987      US  1632678330      failed   10000.000000   Software  Technology   \n",
       "30988      CA  1632726042      failed   39722.546000   Software  Technology   \n",
       "30989      DK  1631517750      failed  145430.220000   Software  Technology   \n",
       "30990      US  1429554526      failed   35000.000000      Plays     Theater   \n",
       "30991      US  1430004537      failed    5000.000000      Plays     Theater   \n",
       "\n",
       "       total_days_active  launch_time  \n",
       "0              28.036979     1.957378  \n",
       "1              59.978880    30.470127  \n",
       "2              13.294832     3.172101  \n",
       "3              44.984160    19.589896  \n",
       "4              29.989440     6.099334  \n",
       "...                  ...          ...  \n",
       "30987          14.994720     3.986328  \n",
       "30988          60.020532     2.673549  \n",
       "30989          29.989440    15.026699  \n",
       "30990          29.989440     8.875729  \n",
       "30991          32.988523     2.753093  \n",
       "\n",
       "[30992 rows x 8 columns]"
      ]
     },
     "execution_count": 8,
     "metadata": {},
     "output_type": "execute_result"
    }
   ],
   "source": [
    "# drop columns deemed unessecary\n",
    "model_data = master_df.drop(columns = ['staff_pick','converted_pledged_amount', 'spotlight', 'backers_count','usd_pledged','is_starrable','current_currency','static_usd_rate','usd_exchange_rate','usd_type','id','name', 'slug', 'category', 'creator', 'location', 'photo', 'profile', 'urls', 'country_displayable_name', 'currency_symbol', 'currency_trailing_code', 'disable_communication', 'source_url', 'currency', 'pledged', 'blurb'])\n",
    "\n",
    "# create goal_usd column so that all goal amounts are in the same units, drop fx_rate and goals afterward\n",
    "model_data['goal_usd'] = model_data['fx_rate']*model_data['goal']\n",
    "model_data = model_data.drop(columns=['fx_rate', 'goal'])\n",
    "\n",
    "# combine category data and all other date\n",
    "model_data = pd.concat([model_data, df_category], axis=1, join='inner')\n",
    "\n",
    "# create total days active column as another metric\n",
    "model_data['total_days_active'] = (model_data.deadline-model_data.launched_at)*0.00001157\n",
    "model_data['launch_time'] = (model_data.launched_at-model_data.created_at)*0.00001157\n",
    "model_data = model_data.drop(columns=['state_changed_at', 'deadline', 'launched_at'])\n",
    "model_data"
   ]
  },
  {
   "cell_type": "code",
   "execution_count": 9,
   "metadata": {},
   "outputs": [
    {
     "data": {
      "text/html": [
       "<div>\n",
       "<style scoped>\n",
       "    .dataframe tbody tr th:only-of-type {\n",
       "        vertical-align: middle;\n",
       "    }\n",
       "\n",
       "    .dataframe tbody tr th {\n",
       "        vertical-align: top;\n",
       "    }\n",
       "\n",
       "    .dataframe thead th {\n",
       "        text-align: right;\n",
       "    }\n",
       "</style>\n",
       "<table border=\"1\" class=\"dataframe\">\n",
       "  <thead>\n",
       "    <tr style=\"text-align: right;\">\n",
       "      <th></th>\n",
       "      <th>country</th>\n",
       "      <th>created_at</th>\n",
       "      <th>state</th>\n",
       "      <th>goal_usd</th>\n",
       "      <th>name</th>\n",
       "      <th>parent_name</th>\n",
       "      <th>total_days_active</th>\n",
       "      <th>launch_time</th>\n",
       "    </tr>\n",
       "  </thead>\n",
       "  <tbody>\n",
       "    <tr>\n",
       "      <th>0</th>\n",
       "      <td>US</td>\n",
       "      <td>1609376406</td>\n",
       "      <td>successful</td>\n",
       "      <td>5000.000000</td>\n",
       "      <td>Cookbooks</td>\n",
       "      <td>Food</td>\n",
       "      <td>28.036979</td>\n",
       "      <td>1.957378</td>\n",
       "    </tr>\n",
       "    <tr>\n",
       "      <th>1</th>\n",
       "      <td>HK</td>\n",
       "      <td>1606278560</td>\n",
       "      <td>successful</td>\n",
       "      <td>44624.926500</td>\n",
       "      <td>Cookbooks</td>\n",
       "      <td>Food</td>\n",
       "      <td>59.978880</td>\n",
       "      <td>30.470127</td>\n",
       "    </tr>\n",
       "    <tr>\n",
       "      <th>2</th>\n",
       "      <td>ES</td>\n",
       "      <td>1606477096</td>\n",
       "      <td>successful</td>\n",
       "      <td>54.095050</td>\n",
       "      <td>Cookbooks</td>\n",
       "      <td>Food</td>\n",
       "      <td>13.294832</td>\n",
       "      <td>3.172101</td>\n",
       "    </tr>\n",
       "    <tr>\n",
       "      <th>3</th>\n",
       "      <td>US</td>\n",
       "      <td>1604500905</td>\n",
       "      <td>successful</td>\n",
       "      <td>65000.000000</td>\n",
       "      <td>Cookbooks</td>\n",
       "      <td>Food</td>\n",
       "      <td>44.984160</td>\n",
       "      <td>19.589896</td>\n",
       "    </tr>\n",
       "    <tr>\n",
       "      <th>4</th>\n",
       "      <td>GB</td>\n",
       "      <td>1605454727</td>\n",
       "      <td>successful</td>\n",
       "      <td>13823.881138</td>\n",
       "      <td>Cookbooks</td>\n",
       "      <td>Food</td>\n",
       "      <td>29.989440</td>\n",
       "      <td>6.099334</td>\n",
       "    </tr>\n",
       "  </tbody>\n",
       "</table>\n",
       "</div>"
      ],
      "text/plain": [
       "  country  created_at       state      goal_usd       name parent_name  \\\n",
       "0      US  1609376406  successful   5000.000000  Cookbooks        Food   \n",
       "1      HK  1606278560  successful  44624.926500  Cookbooks        Food   \n",
       "2      ES  1606477096  successful     54.095050  Cookbooks        Food   \n",
       "3      US  1604500905  successful  65000.000000  Cookbooks        Food   \n",
       "4      GB  1605454727  successful  13823.881138  Cookbooks        Food   \n",
       "\n",
       "   total_days_active  launch_time  \n",
       "0          28.036979     1.957378  \n",
       "1          59.978880    30.470127  \n",
       "2          13.294832     3.172101  \n",
       "3          44.984160    19.589896  \n",
       "4          29.989440     6.099334  "
      ]
     },
     "execution_count": 9,
     "metadata": {},
     "output_type": "execute_result"
    }
   ],
   "source": [
    "# drop rows that have state 'live' or 'cancelled'\n",
    "live_projects = model_data[model_data['state'] == 'live']\n",
    "model_data = model_data.drop(model_data[model_data['state'] == 'live'].index, axis=0)\n",
    "model_data = model_data.drop(model_data[model_data['state'] == 'canceled'].index, axis=0)\n",
    "model_data = model_data.reset_index(drop=True)\n",
    "model_data.head()"
   ]
  },
  {
   "cell_type": "markdown",
   "metadata": {},
   "source": [
    "### Encoding of non neumerical features"
   ]
  },
  {
   "cell_type": "code",
   "execution_count": 10,
   "metadata": {},
   "outputs": [],
   "source": [
    "# init encoder for x values\n",
    "encoder = LabelEncoder()\n",
    "\n",
    "# new encoder for y variable (to make sure that we can reverse encoding)\n",
    "y_encoder = LabelEncoder()\n",
    "model_data['state'] = y_encoder.fit_transform(model_data['state'])\n",
    "\n",
    "# encode boolean and string type columns\n",
    "encoding_columns = (model_data.select_dtypes(include=['bool', 'object'])).columns\n",
    "for column in encoding_columns:\n",
    "    model_data[column] = encoder.fit_transform(model_data[column])"
   ]
  },
  {
   "cell_type": "markdown",
   "metadata": {},
   "source": [
    "### Build Validation and training datasets."
   ]
  },
  {
   "cell_type": "code",
   "execution_count": 11,
   "metadata": {},
   "outputs": [
    {
     "data": {
      "text/html": [
       "<div>\n",
       "<style scoped>\n",
       "    .dataframe tbody tr th:only-of-type {\n",
       "        vertical-align: middle;\n",
       "    }\n",
       "\n",
       "    .dataframe tbody tr th {\n",
       "        vertical-align: top;\n",
       "    }\n",
       "\n",
       "    .dataframe thead th {\n",
       "        text-align: right;\n",
       "    }\n",
       "</style>\n",
       "<table border=\"1\" class=\"dataframe\">\n",
       "  <thead>\n",
       "    <tr style=\"text-align: right;\">\n",
       "      <th></th>\n",
       "      <th>country</th>\n",
       "      <th>created_at</th>\n",
       "      <th>state</th>\n",
       "      <th>goal_usd</th>\n",
       "      <th>name</th>\n",
       "      <th>parent_name</th>\n",
       "      <th>total_days_active</th>\n",
       "      <th>launch_time</th>\n",
       "    </tr>\n",
       "  </thead>\n",
       "  <tbody>\n",
       "    <tr>\n",
       "      <th>0</th>\n",
       "      <td>24</td>\n",
       "      <td>1609376406</td>\n",
       "      <td>1</td>\n",
       "      <td>5000.000000</td>\n",
       "      <td>7</td>\n",
       "      <td>4</td>\n",
       "      <td>28.036979</td>\n",
       "      <td>1.957378</td>\n",
       "    </tr>\n",
       "    <tr>\n",
       "      <th>1</th>\n",
       "      <td>11</td>\n",
       "      <td>1606278560</td>\n",
       "      <td>1</td>\n",
       "      <td>44624.926500</td>\n",
       "      <td>7</td>\n",
       "      <td>4</td>\n",
       "      <td>59.978880</td>\n",
       "      <td>30.470127</td>\n",
       "    </tr>\n",
       "    <tr>\n",
       "      <th>2</th>\n",
       "      <td>7</td>\n",
       "      <td>1606477096</td>\n",
       "      <td>1</td>\n",
       "      <td>54.095050</td>\n",
       "      <td>7</td>\n",
       "      <td>4</td>\n",
       "      <td>13.294832</td>\n",
       "      <td>3.172101</td>\n",
       "    </tr>\n",
       "    <tr>\n",
       "      <th>3</th>\n",
       "      <td>24</td>\n",
       "      <td>1604500905</td>\n",
       "      <td>1</td>\n",
       "      <td>65000.000000</td>\n",
       "      <td>7</td>\n",
       "      <td>4</td>\n",
       "      <td>44.984160</td>\n",
       "      <td>19.589896</td>\n",
       "    </tr>\n",
       "    <tr>\n",
       "      <th>4</th>\n",
       "      <td>9</td>\n",
       "      <td>1605454727</td>\n",
       "      <td>1</td>\n",
       "      <td>13823.881138</td>\n",
       "      <td>7</td>\n",
       "      <td>4</td>\n",
       "      <td>29.989440</td>\n",
       "      <td>6.099334</td>\n",
       "    </tr>\n",
       "    <tr>\n",
       "      <th>...</th>\n",
       "      <td>...</td>\n",
       "      <td>...</td>\n",
       "      <td>...</td>\n",
       "      <td>...</td>\n",
       "      <td>...</td>\n",
       "      <td>...</td>\n",
       "      <td>...</td>\n",
       "      <td>...</td>\n",
       "    </tr>\n",
       "    <tr>\n",
       "      <th>29245</th>\n",
       "      <td>24</td>\n",
       "      <td>1632678330</td>\n",
       "      <td>0</td>\n",
       "      <td>10000.000000</td>\n",
       "      <td>33</td>\n",
       "      <td>8</td>\n",
       "      <td>14.994720</td>\n",
       "      <td>3.986328</td>\n",
       "    </tr>\n",
       "    <tr>\n",
       "      <th>29246</th>\n",
       "      <td>3</td>\n",
       "      <td>1632726042</td>\n",
       "      <td>0</td>\n",
       "      <td>39722.546000</td>\n",
       "      <td>33</td>\n",
       "      <td>8</td>\n",
       "      <td>60.020532</td>\n",
       "      <td>2.673549</td>\n",
       "    </tr>\n",
       "    <tr>\n",
       "      <th>29247</th>\n",
       "      <td>6</td>\n",
       "      <td>1631517750</td>\n",
       "      <td>0</td>\n",
       "      <td>145430.220000</td>\n",
       "      <td>33</td>\n",
       "      <td>8</td>\n",
       "      <td>29.989440</td>\n",
       "      <td>15.026699</td>\n",
       "    </tr>\n",
       "    <tr>\n",
       "      <th>29248</th>\n",
       "      <td>24</td>\n",
       "      <td>1429554526</td>\n",
       "      <td>0</td>\n",
       "      <td>35000.000000</td>\n",
       "      <td>23</td>\n",
       "      <td>9</td>\n",
       "      <td>29.989440</td>\n",
       "      <td>8.875729</td>\n",
       "    </tr>\n",
       "    <tr>\n",
       "      <th>29249</th>\n",
       "      <td>24</td>\n",
       "      <td>1430004537</td>\n",
       "      <td>0</td>\n",
       "      <td>5000.000000</td>\n",
       "      <td>23</td>\n",
       "      <td>9</td>\n",
       "      <td>32.988523</td>\n",
       "      <td>2.753093</td>\n",
       "    </tr>\n",
       "  </tbody>\n",
       "</table>\n",
       "<p>29250 rows × 8 columns</p>\n",
       "</div>"
      ],
      "text/plain": [
       "       country  created_at  state       goal_usd  name  parent_name  \\\n",
       "0           24  1609376406      1    5000.000000     7            4   \n",
       "1           11  1606278560      1   44624.926500     7            4   \n",
       "2            7  1606477096      1      54.095050     7            4   \n",
       "3           24  1604500905      1   65000.000000     7            4   \n",
       "4            9  1605454727      1   13823.881138     7            4   \n",
       "...        ...         ...    ...            ...   ...          ...   \n",
       "29245       24  1632678330      0   10000.000000    33            8   \n",
       "29246        3  1632726042      0   39722.546000    33            8   \n",
       "29247        6  1631517750      0  145430.220000    33            8   \n",
       "29248       24  1429554526      0   35000.000000    23            9   \n",
       "29249       24  1430004537      0    5000.000000    23            9   \n",
       "\n",
       "       total_days_active  launch_time  \n",
       "0              28.036979     1.957378  \n",
       "1              59.978880    30.470127  \n",
       "2              13.294832     3.172101  \n",
       "3              44.984160    19.589896  \n",
       "4              29.989440     6.099334  \n",
       "...                  ...          ...  \n",
       "29245          14.994720     3.986328  \n",
       "29246          60.020532     2.673549  \n",
       "29247          29.989440    15.026699  \n",
       "29248          29.989440     8.875729  \n",
       "29249          32.988523     2.753093  \n",
       "\n",
       "[29250 rows x 8 columns]"
      ]
     },
     "execution_count": 11,
     "metadata": {},
     "output_type": "execute_result"
    }
   ],
   "source": [
    "# Drop NA's\n",
    "model_data = model_data.dropna()\n",
    "model_data"
   ]
  },
  {
   "cell_type": "markdown",
   "metadata": {},
   "source": [
    "### Train/test splits for Test and Validation models."
   ]
  },
  {
   "cell_type": "code",
   "execution_count": 12,
   "metadata": {},
   "outputs": [],
   "source": [
    "# split into X and y variables\n",
    "X = model_data.drop(columns=['state'])\n",
    "y = model_data.state\n",
    "\n",
    "# generate 70% train/test split \n",
    "X_train, X_test, y_train, y_test = train_test_split(X, y, test_size=0.3,\n",
    "                                                       random_state = 1,\n",
    "                                                       stratify = y)"
   ]
  },
  {
   "cell_type": "markdown",
   "metadata": {},
   "source": [
    "### Scale values using standard scaler"
   ]
  },
  {
   "cell_type": "code",
   "execution_count": 13,
   "metadata": {},
   "outputs": [
    {
     "data": {
      "text/html": [
       "<div>\n",
       "<style scoped>\n",
       "    .dataframe tbody tr th:only-of-type {\n",
       "        vertical-align: middle;\n",
       "    }\n",
       "\n",
       "    .dataframe tbody tr th {\n",
       "        vertical-align: top;\n",
       "    }\n",
       "\n",
       "    .dataframe thead th {\n",
       "        text-align: right;\n",
       "    }\n",
       "</style>\n",
       "<table border=\"1\" class=\"dataframe\">\n",
       "  <thead>\n",
       "    <tr style=\"text-align: right;\">\n",
       "      <th></th>\n",
       "      <th>country</th>\n",
       "      <th>created_at</th>\n",
       "      <th>goal_usd</th>\n",
       "      <th>name</th>\n",
       "      <th>parent_name</th>\n",
       "      <th>total_days_active</th>\n",
       "      <th>launch_time</th>\n",
       "    </tr>\n",
       "  </thead>\n",
       "  <tbody>\n",
       "    <tr>\n",
       "      <th>0</th>\n",
       "      <td>0.630119</td>\n",
       "      <td>1.557566</td>\n",
       "      <td>-0.029930</td>\n",
       "      <td>0.525253</td>\n",
       "      <td>-1.133049</td>\n",
       "      <td>-0.264065</td>\n",
       "      <td>-0.015112</td>\n",
       "    </tr>\n",
       "    <tr>\n",
       "      <th>1</th>\n",
       "      <td>0.630119</td>\n",
       "      <td>-0.218788</td>\n",
       "      <td>0.365540</td>\n",
       "      <td>1.048017</td>\n",
       "      <td>1.047803</td>\n",
       "      <td>-0.264065</td>\n",
       "      <td>-0.098002</td>\n",
       "    </tr>\n",
       "    <tr>\n",
       "      <th>2</th>\n",
       "      <td>0.630119</td>\n",
       "      <td>-2.060579</td>\n",
       "      <td>-0.030601</td>\n",
       "      <td>-0.258893</td>\n",
       "      <td>1.774754</td>\n",
       "      <td>0.094045</td>\n",
       "      <td>-0.310671</td>\n",
       "    </tr>\n",
       "    <tr>\n",
       "      <th>3</th>\n",
       "      <td>0.630119</td>\n",
       "      <td>-1.840501</td>\n",
       "      <td>-0.029930</td>\n",
       "      <td>0.350999</td>\n",
       "      <td>0.320852</td>\n",
       "      <td>-0.264065</td>\n",
       "      <td>0.831004</td>\n",
       "    </tr>\n",
       "    <tr>\n",
       "      <th>4</th>\n",
       "      <td>0.630119</td>\n",
       "      <td>-1.111699</td>\n",
       "      <td>-0.027920</td>\n",
       "      <td>0.176744</td>\n",
       "      <td>1.411278</td>\n",
       "      <td>-0.264065</td>\n",
       "      <td>-0.018055</td>\n",
       "    </tr>\n",
       "  </tbody>\n",
       "</table>\n",
       "</div>"
      ],
      "text/plain": [
       "    country  created_at  goal_usd      name  parent_name  total_days_active  \\\n",
       "0  0.630119    1.557566 -0.029930  0.525253    -1.133049          -0.264065   \n",
       "1  0.630119   -0.218788  0.365540  1.048017     1.047803          -0.264065   \n",
       "2  0.630119   -2.060579 -0.030601 -0.258893     1.774754           0.094045   \n",
       "3  0.630119   -1.840501 -0.029930  0.350999     0.320852          -0.264065   \n",
       "4  0.630119   -1.111699 -0.027920  0.176744     1.411278          -0.264065   \n",
       "\n",
       "   launch_time  \n",
       "0    -0.015112  \n",
       "1    -0.098002  \n",
       "2    -0.310671  \n",
       "3     0.831004  \n",
       "4    -0.018055  "
      ]
     },
     "execution_count": 13,
     "metadata": {},
     "output_type": "execute_result"
    }
   ],
   "source": [
    "# init standard scaler\n",
    "scaler = StandardScaler()\n",
    "\n",
    "# scale Train and testing set, columns=X.columns to keep column headers.\n",
    "X_train_scaled = pd.DataFrame(scaler.fit_transform(X_train), columns=X.columns)\n",
    "X_test_scaled = pd.DataFrame(scaler.transform(X_test), columns=X.columns)\n",
    "X_train_scaled.head()"
   ]
  },
  {
   "cell_type": "markdown",
   "metadata": {},
   "source": [
    "---\n",
    "\n",
    "# Random Forest Classifier"
   ]
  },
  {
   "cell_type": "code",
   "execution_count": 14,
   "metadata": {},
   "outputs": [
    {
     "data": {
      "text/plain": [
       "RandomForestClassifier()"
      ]
     },
     "execution_count": 14,
     "metadata": {},
     "output_type": "execute_result"
    }
   ],
   "source": [
    "# init and fit RF classifier\n",
    "rf_classifier = RandomForestClassifier()\n",
    "rf_classifier.fit(X_train_scaled, y_train)"
   ]
  },
  {
   "cell_type": "code",
   "execution_count": 15,
   "metadata": {},
   "outputs": [],
   "source": [
    "# perform predictions on testing and validation data\n",
    "predictions  = rf_classifier.predict(X_test_scaled)"
   ]
  },
  {
   "cell_type": "code",
   "execution_count": 16,
   "metadata": {},
   "outputs": [],
   "source": [
    "# decode values using inverse transform\n",
    "rf_predictions_decoded = y_encoder.inverse_transform(predictions)\n",
    "y_test_decoded = y_encoder.inverse_transform(y_test)"
   ]
  },
  {
   "cell_type": "code",
   "execution_count": 17,
   "metadata": {},
   "outputs": [
    {
     "data": {
      "text/html": [
       "<div>\n",
       "<style scoped>\n",
       "    .dataframe tbody tr th:only-of-type {\n",
       "        vertical-align: middle;\n",
       "    }\n",
       "\n",
       "    .dataframe tbody tr th {\n",
       "        vertical-align: top;\n",
       "    }\n",
       "\n",
       "    .dataframe thead th {\n",
       "        text-align: right;\n",
       "    }\n",
       "</style>\n",
       "<table border=\"1\" class=\"dataframe\">\n",
       "  <thead>\n",
       "    <tr style=\"text-align: right;\">\n",
       "      <th></th>\n",
       "      <th>Importance value</th>\n",
       "    </tr>\n",
       "    <tr>\n",
       "      <th>Feature</th>\n",
       "      <th></th>\n",
       "    </tr>\n",
       "  </thead>\n",
       "  <tbody>\n",
       "    <tr>\n",
       "      <th>country</th>\n",
       "      <td>0.040446</td>\n",
       "    </tr>\n",
       "    <tr>\n",
       "      <th>created_at</th>\n",
       "      <td>0.197626</td>\n",
       "    </tr>\n",
       "    <tr>\n",
       "      <th>goal_usd</th>\n",
       "      <td>0.170603</td>\n",
       "    </tr>\n",
       "    <tr>\n",
       "      <th>name</th>\n",
       "      <td>0.210621</td>\n",
       "    </tr>\n",
       "    <tr>\n",
       "      <th>parent_name</th>\n",
       "      <td>0.080859</td>\n",
       "    </tr>\n",
       "    <tr>\n",
       "      <th>total_days_active</th>\n",
       "      <td>0.115131</td>\n",
       "    </tr>\n",
       "    <tr>\n",
       "      <th>launch_time</th>\n",
       "      <td>0.184716</td>\n",
       "    </tr>\n",
       "  </tbody>\n",
       "</table>\n",
       "</div>"
      ],
      "text/plain": [
       "                   Importance value\n",
       "Feature                            \n",
       "country                    0.040446\n",
       "created_at                 0.197626\n",
       "goal_usd                   0.170603\n",
       "name                       0.210621\n",
       "parent_name                0.080859\n",
       "total_days_active          0.115131\n",
       "launch_time                0.184716"
      ]
     },
     "execution_count": 17,
     "metadata": {},
     "output_type": "execute_result"
    }
   ],
   "source": [
    "# view model importance of features for the model\n",
    "importances = pd.DataFrame(zip(X.columns, rf_classifier.feature_importances_), columns = ['Feature','Importance value']).set_index('Feature')\n",
    "importances"
   ]
  },
  {
   "cell_type": "code",
   "execution_count": 18,
   "metadata": {},
   "outputs": [
    {
     "name": "stdout",
     "output_type": "stream",
     "text": [
      "              precision    recall  f1-score   support\n",
      "\n",
      "      failed       0.76      0.71      0.73      2861\n",
      "  successful       0.86      0.89      0.88      5914\n",
      "\n",
      "    accuracy                           0.83      8775\n",
      "   macro avg       0.81      0.80      0.81      8775\n",
      "weighted avg       0.83      0.83      0.83      8775\n",
      "\n"
     ]
    }
   ],
   "source": [
    "# classification reports for the test and validation set\n",
    "rf_report = classification_report(y_test_decoded, rf_predictions_decoded)\n",
    "print (rf_report)"
   ]
  },
  {
   "cell_type": "code",
   "execution_count": 19,
   "metadata": {},
   "outputs": [
    {
     "data": {
      "text/html": [
       "<div>\n",
       "<style scoped>\n",
       "    .dataframe tbody tr th:only-of-type {\n",
       "        vertical-align: middle;\n",
       "    }\n",
       "\n",
       "    .dataframe tbody tr th {\n",
       "        vertical-align: top;\n",
       "    }\n",
       "\n",
       "    .dataframe thead th {\n",
       "        text-align: right;\n",
       "    }\n",
       "</style>\n",
       "<table border=\"1\" class=\"dataframe\">\n",
       "  <thead>\n",
       "    <tr style=\"text-align: right;\">\n",
       "      <th></th>\n",
       "      <th>Failed</th>\n",
       "      <th>Successful</th>\n",
       "    </tr>\n",
       "  </thead>\n",
       "  <tbody>\n",
       "    <tr>\n",
       "      <th>Failed</th>\n",
       "      <td>2026</td>\n",
       "      <td>835</td>\n",
       "    </tr>\n",
       "    <tr>\n",
       "      <th>Successful</th>\n",
       "      <td>634</td>\n",
       "      <td>5280</td>\n",
       "    </tr>\n",
       "  </tbody>\n",
       "</table>\n",
       "</div>"
      ],
      "text/plain": [
       "            Failed  Successful\n",
       "Failed        2026         835\n",
       "Successful     634        5280"
      ]
     },
     "execution_count": 19,
     "metadata": {},
     "output_type": "execute_result"
    }
   ],
   "source": [
    "# view confusion matrix (0=failed, 1=success)\n",
    "rf_cm = pd.DataFrame(confusion_matrix(y_test_decoded, rf_predictions_decoded), index=['Failed', 'Successful'], columns=['Failed', 'Successful'])\n",
    "rf_cm"
   ]
  },
  {
   "cell_type": "code",
   "execution_count": 20,
   "metadata": {},
   "outputs": [],
   "source": [
    "# Calculate the ROC curve and AUC for the testing set\n",
    "fpr_test, tpr_test, thresholds_test = roc_curve(y_test, predictions)\n",
    "auc_test = round(auc(fpr_test, tpr_test), 3)\n",
    "\n",
    "# Create a DataFrame with the fpr and tpr results\n",
    "roc_df_test = pd.DataFrame({\"FPR Test\": fpr_test, \"TPR Test\": tpr_test})"
   ]
  },
  {
   "cell_type": "code",
   "execution_count": 21,
   "metadata": {},
   "outputs": [
    {
     "data": {
      "text/plain": [
       "<AxesSubplot:title={'center':'Test ROC Curve (AUC=0.8)'}, xlabel='FPR Test'>"
      ]
     },
     "execution_count": 21,
     "metadata": {},
     "output_type": "execute_result"
    },
    {
     "data": {
      "image/png": "[encoded data removed]",
      "text/plain": [
       "<Figure size 720x432 with 1 Axes>"
      ]
     },
     "metadata": {
      "needs_background": "light"
     },
     "output_type": "display_data"
    }
   ],
   "source": [
    "# Plot test set ROC curve\n",
    "roc_df_test.plot(figsize = (10,6), x=\"FPR Test\", y=\"TPR Test\", title=f\"Test ROC Curve (AUC={auc_test})\")"
   ]
  },
  {
   "cell_type": "markdown",
   "metadata": {},
   "source": [
    "---\n",
    "\n",
    "# SVM Classifier"
   ]
  },
  {
   "cell_type": "code",
   "execution_count": 100,
   "metadata": {},
   "outputs": [
    {
     "data": {
      "text/plain": [
       "SVC(kernel='linear', max_iter=500)"
      ]
     },
     "execution_count": 100,
     "metadata": {},
     "output_type": "execute_result"
    }
   ],
   "source": [
    "svm_classifier = SVC(kernel='linear', max_iter=500)\n",
    "svm_classifier"
   ]
  },
  {
   "cell_type": "code",
   "execution_count": 101,
   "metadata": {},
   "outputs": [
    {
     "name": "stderr",
     "output_type": "stream",
     "text": [
      "/Users/stuartperry/opt/anaconda3/envs/alpacaenv/lib/python3.7/site-packages/sklearn/svm/_base.py:289: ConvergenceWarning: Solver terminated early (max_iter=500).  Consider pre-processing your data with StandardScaler or MinMaxScaler.\n",
      "  ConvergenceWarning,\n"
     ]
    },
    {
     "data": {
      "text/plain": [
       "SVC(kernel='linear', max_iter=500)"
      ]
     },
     "execution_count": 101,
     "metadata": {},
     "output_type": "execute_result"
    }
   ],
   "source": [
    "svm_classifier.fit(X_train_scaled, y_train)"
   ]
  },
  {
   "cell_type": "code",
   "execution_count": 102,
   "metadata": {},
   "outputs": [
    {
     "data": {
      "text/plain": [
       "0.6737973137973138"
      ]
     },
     "execution_count": 102,
     "metadata": {},
     "output_type": "execute_result"
    }
   ],
   "source": [
    "# Score the accuracy\n",
    "svm_classifier.score(X_train_scaled, y_train)"
   ]
  },
  {
   "cell_type": "code",
   "execution_count": 103,
   "metadata": {},
   "outputs": [],
   "source": [
    "# Make predictions using the test data\n",
    "svm_predictions = svm_classifier.predict(X_test_scaled)\n",
    "svm_predictions_decoded = y_encoder.inverse_transform(svm_predictions)"
   ]
  },
  {
   "cell_type": "code",
   "execution_count": 104,
   "metadata": {},
   "outputs": [
    {
     "data": {
      "text/html": [
       "<div>\n",
       "<style scoped>\n",
       "    .dataframe tbody tr th:only-of-type {\n",
       "        vertical-align: middle;\n",
       "    }\n",
       "\n",
       "    .dataframe tbody tr th {\n",
       "        vertical-align: top;\n",
       "    }\n",
       "\n",
       "    .dataframe thead th {\n",
       "        text-align: right;\n",
       "    }\n",
       "</style>\n",
       "<table border=\"1\" class=\"dataframe\">\n",
       "  <thead>\n",
       "    <tr style=\"text-align: right;\">\n",
       "      <th></th>\n",
       "      <th>Failed</th>\n",
       "      <th>Successful</th>\n",
       "    </tr>\n",
       "  </thead>\n",
       "  <tbody>\n",
       "    <tr>\n",
       "      <th>Failed</th>\n",
       "      <td>12</td>\n",
       "      <td>2849</td>\n",
       "    </tr>\n",
       "    <tr>\n",
       "      <th>Successful</th>\n",
       "      <td>28</td>\n",
       "      <td>5886</td>\n",
       "    </tr>\n",
       "  </tbody>\n",
       "</table>\n",
       "</div>"
      ],
      "text/plain": [
       "            Failed  Successful\n",
       "Failed          12        2849\n",
       "Successful      28        5886"
      ]
     },
     "execution_count": 104,
     "metadata": {},
     "output_type": "execute_result"
    }
   ],
   "source": [
    "# Display the confusion matrix\n",
    "svm_cm = confusion_matrix(y_test_decoded, svm_predictions_decoded)\n",
    "svm_cm = pd.DataFrame(confusion_matrix(y_test_decoded, svm_predictions_decoded), index=['Failed', 'Successful'], columns=['Failed', 'Successful'])\n",
    "svm_cm"
   ]
  },
  {
   "cell_type": "code",
   "execution_count": 105,
   "metadata": {},
   "outputs": [
    {
     "name": "stdout",
     "output_type": "stream",
     "text": [
      "              precision    recall  f1-score   support\n",
      "\n",
      "      failed       0.30      0.00      0.01      2861\n",
      "  successful       0.67      1.00      0.80      5914\n",
      "\n",
      "    accuracy                           0.67      8775\n",
      "   macro avg       0.49      0.50      0.41      8775\n",
      "weighted avg       0.55      0.67      0.54      8775\n",
      "\n"
     ]
    }
   ],
   "source": [
    "# Calculate classification report\n",
    "print(classification_report(y_test_decoded, svm_predictions_decoded))"
   ]
  },
  {
   "cell_type": "markdown",
   "metadata": {},
   "source": [
    "---\n",
    "# SKLearn Neural Network Classifier"
   ]
  },
  {
   "cell_type": "code",
   "execution_count": 42,
   "metadata": {},
   "outputs": [],
   "source": [
    "# init and fit Neural Networks classifier\n",
    "nn_classifier = MLPClassifier(solver='lbfgs', alpha=1e-5, hidden_layer_sizes=(4, 2), random_state=1)"
   ]
  },
  {
   "cell_type": "code",
   "execution_count": 43,
   "metadata": {},
   "outputs": [
    {
     "name": "stderr",
     "output_type": "stream",
     "text": [
      "/Users/stuartperry/opt/anaconda3/envs/alpacaenv/lib/python3.7/site-packages/sklearn/neural_network/_multilayer_perceptron.py:549: ConvergenceWarning: lbfgs failed to converge (status=1):\n",
      "STOP: TOTAL NO. of ITERATIONS REACHED LIMIT.\n",
      "\n",
      "Increase the number of iterations (max_iter) or scale the data as shown in:\n",
      "    https://scikit-learn.org/stable/modules/preprocessing.html\n",
      "  self.n_iter_ = _check_optimize_result(\"lbfgs\", opt_res, self.max_iter)\n"
     ]
    },
    {
     "data": {
      "text/plain": [
       "MLPClassifier(alpha=1e-05, hidden_layer_sizes=(4, 2), random_state=1,\n",
       "              solver='lbfgs')"
      ]
     },
     "execution_count": 43,
     "metadata": {},
     "output_type": "execute_result"
    }
   ],
   "source": [
    "# Fit the data\n",
    "nn_classifier.fit(X_train_scaled, y_train)"
   ]
  },
  {
   "cell_type": "code",
   "execution_count": 44,
   "metadata": {},
   "outputs": [
    {
     "data": {
      "text/plain": [
       "0.762962962962963"
      ]
     },
     "execution_count": 44,
     "metadata": {},
     "output_type": "execute_result"
    }
   ],
   "source": [
    "nn_classifier.score(X_test_scaled, y_test)"
   ]
  },
  {
   "cell_type": "code",
   "execution_count": 61,
   "metadata": {},
   "outputs": [
    {
     "data": {
      "text/plain": [
       "dtype('int64')"
      ]
     },
     "execution_count": 61,
     "metadata": {},
     "output_type": "execute_result"
    }
   ],
   "source": [
    "# Make predictions using the test data\n",
    "nn_predictions = nn_classifier.predict(X_test_scaled)\n",
    "nn_predictions_decoded = y_encoder.inverse_transform(nn_predictions)"
   ]
  },
  {
   "cell_type": "code",
   "execution_count": 46,
   "metadata": {},
   "outputs": [
    {
     "data": {
      "text/html": [
       "<div>\n",
       "<style scoped>\n",
       "    .dataframe tbody tr th:only-of-type {\n",
       "        vertical-align: middle;\n",
       "    }\n",
       "\n",
       "    .dataframe tbody tr th {\n",
       "        vertical-align: top;\n",
       "    }\n",
       "\n",
       "    .dataframe thead th {\n",
       "        text-align: right;\n",
       "    }\n",
       "</style>\n",
       "<table border=\"1\" class=\"dataframe\">\n",
       "  <thead>\n",
       "    <tr style=\"text-align: right;\">\n",
       "      <th></th>\n",
       "      <th>Failed</th>\n",
       "      <th>Successful</th>\n",
       "    </tr>\n",
       "  </thead>\n",
       "  <tbody>\n",
       "    <tr>\n",
       "      <th>Failed</th>\n",
       "      <td>1581</td>\n",
       "      <td>1280</td>\n",
       "    </tr>\n",
       "    <tr>\n",
       "      <th>Successful</th>\n",
       "      <td>800</td>\n",
       "      <td>5114</td>\n",
       "    </tr>\n",
       "  </tbody>\n",
       "</table>\n",
       "</div>"
      ],
      "text/plain": [
       "            Failed  Successful\n",
       "Failed        1581        1280\n",
       "Successful     800        5114"
      ]
     },
     "execution_count": 46,
     "metadata": {},
     "output_type": "execute_result"
    }
   ],
   "source": [
    "# Display the confusion matrix\n",
    "nn_cm = confusion_matrix(y_test_decoded, nn_predictions_decoded)\n",
    "nn_cm = pd.DataFrame(confusion_matrix(y_test_decoded, nn_predictions_decoded), index=['Failed', 'Successful'], columns=['Failed', 'Successful'])\n",
    "nn_cm"
   ]
  },
  {
   "cell_type": "code",
   "execution_count": 47,
   "metadata": {},
   "outputs": [
    {
     "name": "stdout",
     "output_type": "stream",
     "text": [
      "              precision    recall  f1-score   support\n",
      "\n",
      "      failed       0.66      0.55      0.60      2861\n",
      "  successful       0.80      0.86      0.83      5914\n",
      "\n",
      "    accuracy                           0.76      8775\n",
      "   macro avg       0.73      0.71      0.72      8775\n",
      "weighted avg       0.76      0.76      0.76      8775\n",
      "\n"
     ]
    }
   ],
   "source": [
    "# Calculate classification report\n",
    "print(classification_report(y_test_decoded, nn_predictions_decoded))"
   ]
  },
  {
   "cell_type": "markdown",
   "metadata": {},
   "source": [
    "---\n",
    " # XGBoost Classifier"
   ]
  },
  {
   "cell_type": "code",
   "execution_count": 48,
   "metadata": {},
   "outputs": [
    {
     "name": "stdout",
     "output_type": "stream",
     "text": [
      "[17:30:09] WARNING: /Users/runner/miniforge3/conda-bld/xgboost-split_1645117948562/work/src/learner.cc:1115: Starting in XGBoost 1.3.0, the default evaluation metric used with the objective 'multi:softmax' was changed from 'merror' to 'mlogloss'. Explicitly set eval_metric if you'd like to restore the old behavior.\n"
     ]
    }
   ],
   "source": [
    "# init datasets as XGB matrices\n",
    "xgb_train = xgb.DMatrix(np.array(X_train_scaled), label=np.array(y_train))\n",
    "xgb_test = xgb.DMatrix(np.array(X_test_scaled), label=np.array(y_test))\n",
    "\n",
    "# specify parameters via map\n",
    "param = {\n",
    "    'max_depth':5, \n",
    "    'eta':1, \n",
    "    'num_class':2, \n",
    "    'gamma':0,\n",
    "    'max_depth':6,\n",
    "    'min_child_weight':10,\n",
    "    'num_parallel_tree':1\n",
    "    }\n",
    "num_round = 5\n",
    "\n",
    "# fit XGB classifier\n",
    "xgb_classifier = xgb.train(param, xgb_train, num_round)"
   ]
  },
  {
   "cell_type": "code",
   "execution_count": 63,
   "metadata": {},
   "outputs": [
    {
     "data": {
      "text/plain": [
       "dtype('int64')"
      ]
     },
     "execution_count": 63,
     "metadata": {},
     "output_type": "execute_result"
    }
   ],
   "source": [
    "# generate predictions\n",
    "xgb_predictions = xgb_classifier.predict(xgb_test).astype(int)"
   ]
  },
  {
   "cell_type": "code",
   "execution_count": 64,
   "metadata": {},
   "outputs": [],
   "source": [
    "xgb_predictions_decoded = y_encoder.inverse_transform(xgb_predictions)"
   ]
  },
  {
   "cell_type": "code",
   "execution_count": 65,
   "metadata": {},
   "outputs": [
    {
     "data": {
      "text/html": [
       "<div>\n",
       "<style scoped>\n",
       "    .dataframe tbody tr th:only-of-type {\n",
       "        vertical-align: middle;\n",
       "    }\n",
       "\n",
       "    .dataframe tbody tr th {\n",
       "        vertical-align: top;\n",
       "    }\n",
       "\n",
       "    .dataframe thead th {\n",
       "        text-align: right;\n",
       "    }\n",
       "</style>\n",
       "<table border=\"1\" class=\"dataframe\">\n",
       "  <thead>\n",
       "    <tr style=\"text-align: right;\">\n",
       "      <th></th>\n",
       "      <th>Failed</th>\n",
       "      <th>Successful</th>\n",
       "    </tr>\n",
       "  </thead>\n",
       "  <tbody>\n",
       "    <tr>\n",
       "      <th>Failed</th>\n",
       "      <td>1918</td>\n",
       "      <td>943</td>\n",
       "    </tr>\n",
       "    <tr>\n",
       "      <th>Successful</th>\n",
       "      <td>701</td>\n",
       "      <td>5213</td>\n",
       "    </tr>\n",
       "  </tbody>\n",
       "</table>\n",
       "</div>"
      ],
      "text/plain": [
       "            Failed  Successful\n",
       "Failed        1918         943\n",
       "Successful     701        5213"
      ]
     },
     "execution_count": 65,
     "metadata": {},
     "output_type": "execute_result"
    }
   ],
   "source": [
    "# Display the confusion matrix\n",
    "xgb_cm = confusion_matrix(y_test_decoded, xgb_predictions_decoded)\n",
    "xgb_cm = pd.DataFrame(confusion_matrix(y_test_decoded, xgb_predictions_decoded), index=['Failed', 'Successful'], columns=['Failed', 'Successful'])\n",
    "xgb_cm"
   ]
  },
  {
   "cell_type": "code",
   "execution_count": 66,
   "metadata": {},
   "outputs": [
    {
     "name": "stdout",
     "output_type": "stream",
     "text": [
      "              precision    recall  f1-score   support\n",
      "\n",
      "      failed       0.73      0.67      0.70      2861\n",
      "  successful       0.85      0.88      0.86      5914\n",
      "\n",
      "    accuracy                           0.81      8775\n",
      "   macro avg       0.79      0.78      0.78      8775\n",
      "weighted avg       0.81      0.81      0.81      8775\n",
      "\n"
     ]
    }
   ],
   "source": [
    "# Calculate classification report\n",
    "print(classification_report(y_test_decoded, xgb_predictions_decoded))"
   ]
  }
 ],
 "metadata": {
  "interpreter": {
   "hash": "cf1f8725b71ad38c8274020824e9c4c818b5212f8c3c5bd12cb8207044c0f72a"
  },
  "kernelspec": {
   "display_name": "Python 3.7.11 ('alpacaenv')",
   "language": "python",
   "name": "python3"
  },
  "language_info": {
   "codemirror_mode": {
    "name": "ipython",
    "version": 3
   },
   "file_extension": ".py",
   "mimetype": "text/x-python",
   "name": "python",
   "nbconvert_exporter": "python",
   "pygments_lexer": "ipython3",
   "version": "3.7.11"
  }
 },
 "nbformat": 4,
 "nbformat_minor": 2
}
