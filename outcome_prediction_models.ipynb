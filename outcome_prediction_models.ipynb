{
 "cells": [
  {
   "cell_type": "code",
   "execution_count": 1,
   "metadata": {},
   "outputs": [],
   "source": [
    "import pandas as pd\n",
    "import numpy as np\n",
    "import matplotlib.pyplot as plt\n",
    "\n",
    "from sqlalchemy import create_engine\n",
    "from dotenv import load_dotenv\n",
    "import os\n",
    "\n",
    "from sklearn.preprocessing import LabelEncoder, OrdinalEncoder, StandardScaler, MinMaxScaler\n",
    "from sklearn.model_selection import train_test_split\n",
    "\n",
    "from sklearn.ensemble import RandomForestClassifier\n",
    "from sklearn.neural_network import MLPClassifier\n",
    "from sklearn.svm import SVC\n",
    "import xgboost as xgb\n",
    "\n",
    "from sklearn.metrics import classification_report\n",
    "from sklearn.metrics import confusion_matrix\n",
    "from sklearn.metrics import roc_curve, auc\n",
    "\n",
    "from sklearn.pipeline import Pipeline\n",
    "\n",
    "# Find the dataset @ (CSV files 2022-04-21, https://webrobots.io/kickstarter-datasets/)\n",
    "# download link: https://s3.amazonaws.com/weruns/forfun/Kickstarter/Kickstarter_2022-04-21T03_20_08_060Z.zip"
   ]
  },
  {
   "cell_type": "code",
   "execution_count": 2,
   "metadata": {},
   "outputs": [],
   "source": [
    "# get db connection\n",
    "load_dotenv()\n",
    "db_connection = os.getenv(\"KICKSTARTER_DB_URL\")\n",
    "\n",
    "# init database engine\n",
    "engine = create_engine(db_connection)"
   ]
  },
  {
   "cell_type": "code",
   "execution_count": 3,
   "metadata": {},
   "outputs": [
    {
     "data": {
      "text/html": [
       "<div>\n",
       "<style scoped>\n",
       "    .dataframe tbody tr th:only-of-type {\n",
       "        vertical-align: middle;\n",
       "    }\n",
       "\n",
       "    .dataframe tbody tr th {\n",
       "        vertical-align: top;\n",
       "    }\n",
       "\n",
       "    .dataframe thead th {\n",
       "        text-align: right;\n",
       "    }\n",
       "</style>\n",
       "<table border=\"1\" class=\"dataframe\">\n",
       "  <thead>\n",
       "    <tr style=\"text-align: right;\">\n",
       "      <th></th>\n",
       "      <th>state</th>\n",
       "      <th>country</th>\n",
       "      <th>fx_rate</th>\n",
       "      <th>goal</th>\n",
       "      <th>created_at</th>\n",
       "      <th>launched_at</th>\n",
       "      <th>state_changed_at</th>\n",
       "      <th>deadline</th>\n",
       "      <th>name</th>\n",
       "      <th>parent_name</th>\n",
       "    </tr>\n",
       "  </thead>\n",
       "  <tbody>\n",
       "    <tr>\n",
       "      <th>0</th>\n",
       "      <td>successful</td>\n",
       "      <td>US</td>\n",
       "      <td>1.000000</td>\n",
       "      <td>5000.0</td>\n",
       "      <td>1609376406</td>\n",
       "      <td>1609545583</td>\n",
       "      <td>1611968831</td>\n",
       "      <td>1611968831</td>\n",
       "      <td>Cookbooks</td>\n",
       "      <td>Food</td>\n",
       "    </tr>\n",
       "    <tr>\n",
       "      <th>1</th>\n",
       "      <td>successful</td>\n",
       "      <td>HK</td>\n",
       "      <td>0.127500</td>\n",
       "      <td>350000.0</td>\n",
       "      <td>1606278560</td>\n",
       "      <td>1608912106</td>\n",
       "      <td>1614096106</td>\n",
       "      <td>1614096106</td>\n",
       "      <td>Cookbooks</td>\n",
       "      <td>Food</td>\n",
       "    </tr>\n",
       "    <tr>\n",
       "      <th>2</th>\n",
       "      <td>successful</td>\n",
       "      <td>ES</td>\n",
       "      <td>1.081901</td>\n",
       "      <td>50.0</td>\n",
       "      <td>1606477096</td>\n",
       "      <td>1606751262</td>\n",
       "      <td>1607900340</td>\n",
       "      <td>1607900340</td>\n",
       "      <td>Cookbooks</td>\n",
       "      <td>Food</td>\n",
       "    </tr>\n",
       "    <tr>\n",
       "      <th>3</th>\n",
       "      <td>successful</td>\n",
       "      <td>US</td>\n",
       "      <td>1.000000</td>\n",
       "      <td>65000.0</td>\n",
       "      <td>1604500905</td>\n",
       "      <td>1606194068</td>\n",
       "      <td>1610082068</td>\n",
       "      <td>1610082068</td>\n",
       "      <td>Cookbooks</td>\n",
       "      <td>Food</td>\n",
       "    </tr>\n",
       "    <tr>\n",
       "      <th>4</th>\n",
       "      <td>successful</td>\n",
       "      <td>GB</td>\n",
       "      <td>1.304140</td>\n",
       "      <td>10600.0</td>\n",
       "      <td>1605454727</td>\n",
       "      <td>1605981895</td>\n",
       "      <td>1608573895</td>\n",
       "      <td>1608573895</td>\n",
       "      <td>Cookbooks</td>\n",
       "      <td>Food</td>\n",
       "    </tr>\n",
       "  </tbody>\n",
       "</table>\n",
       "</div>"
      ],
      "text/plain": [
       "        state country   fx_rate      goal  created_at  launched_at  \\\n",
       "0  successful      US  1.000000    5000.0  1609376406   1609545583   \n",
       "1  successful      HK  0.127500  350000.0  1606278560   1608912106   \n",
       "2  successful      ES  1.081901      50.0  1606477096   1606751262   \n",
       "3  successful      US  1.000000   65000.0  1604500905   1606194068   \n",
       "4  successful      GB  1.304140   10600.0  1605454727   1605981895   \n",
       "\n",
       "   state_changed_at    deadline       name parent_name  \n",
       "0        1611968831  1611968831  Cookbooks        Food  \n",
       "1        1614096106  1614096106  Cookbooks        Food  \n",
       "2        1607900340  1607900340  Cookbooks        Food  \n",
       "3        1610082068  1610082068  Cookbooks        Food  \n",
       "4        1608573895  1608573895  Cookbooks        Food  "
      ]
     },
     "execution_count": 3,
     "metadata": {},
     "output_type": "execute_result"
    }
   ],
   "source": [
    "# Query the database for data to build models.\n",
    "query = \"\"\"\n",
    "        SELECT  state, \n",
    "                country, \n",
    "                fx_rate, \n",
    "                goal, \n",
    "                created_at, \n",
    "                launched_at, \n",
    "                state_changed_at, \n",
    "                deadline, \n",
    "                category.name, \n",
    "                parent_name \n",
    "        FROM kickstarters\n",
    "        INNER JOIN category \n",
    "        ON kickstarters.id=category.kickstarter_id;\n",
    "        \"\"\"\t\n",
    "model_data = pd.read_sql(query, engine)\n",
    "model_data.head()"
   ]
  },
  {
   "cell_type": "code",
   "execution_count": 4,
   "metadata": {},
   "outputs": [
    {
     "data": {
      "text/html": [
       "<div>\n",
       "<style scoped>\n",
       "    .dataframe tbody tr th:only-of-type {\n",
       "        vertical-align: middle;\n",
       "    }\n",
       "\n",
       "    .dataframe tbody tr th {\n",
       "        vertical-align: top;\n",
       "    }\n",
       "\n",
       "    .dataframe thead th {\n",
       "        text-align: right;\n",
       "    }\n",
       "</style>\n",
       "<table border=\"1\" class=\"dataframe\">\n",
       "  <thead>\n",
       "    <tr style=\"text-align: right;\">\n",
       "      <th></th>\n",
       "      <th>state</th>\n",
       "      <th>country</th>\n",
       "      <th>created_at</th>\n",
       "      <th>name</th>\n",
       "      <th>parent_name</th>\n",
       "      <th>goal_usd</th>\n",
       "      <th>total_days_active</th>\n",
       "      <th>launch_time</th>\n",
       "    </tr>\n",
       "  </thead>\n",
       "  <tbody>\n",
       "    <tr>\n",
       "      <th>0</th>\n",
       "      <td>successful</td>\n",
       "      <td>US</td>\n",
       "      <td>1609376406</td>\n",
       "      <td>Cookbooks</td>\n",
       "      <td>Food</td>\n",
       "      <td>5000.000000</td>\n",
       "      <td>28.036979</td>\n",
       "      <td>1.957378</td>\n",
       "    </tr>\n",
       "    <tr>\n",
       "      <th>1</th>\n",
       "      <td>successful</td>\n",
       "      <td>HK</td>\n",
       "      <td>1606278560</td>\n",
       "      <td>Cookbooks</td>\n",
       "      <td>Food</td>\n",
       "      <td>44624.926500</td>\n",
       "      <td>59.978880</td>\n",
       "      <td>30.470127</td>\n",
       "    </tr>\n",
       "    <tr>\n",
       "      <th>2</th>\n",
       "      <td>successful</td>\n",
       "      <td>ES</td>\n",
       "      <td>1606477096</td>\n",
       "      <td>Cookbooks</td>\n",
       "      <td>Food</td>\n",
       "      <td>54.095050</td>\n",
       "      <td>13.294832</td>\n",
       "      <td>3.172101</td>\n",
       "    </tr>\n",
       "    <tr>\n",
       "      <th>3</th>\n",
       "      <td>successful</td>\n",
       "      <td>US</td>\n",
       "      <td>1604500905</td>\n",
       "      <td>Cookbooks</td>\n",
       "      <td>Food</td>\n",
       "      <td>65000.000000</td>\n",
       "      <td>44.984160</td>\n",
       "      <td>19.589896</td>\n",
       "    </tr>\n",
       "    <tr>\n",
       "      <th>4</th>\n",
       "      <td>successful</td>\n",
       "      <td>GB</td>\n",
       "      <td>1605454727</td>\n",
       "      <td>Cookbooks</td>\n",
       "      <td>Food</td>\n",
       "      <td>13823.881138</td>\n",
       "      <td>29.989440</td>\n",
       "      <td>6.099334</td>\n",
       "    </tr>\n",
       "  </tbody>\n",
       "</table>\n",
       "</div>"
      ],
      "text/plain": [
       "        state country  created_at       name parent_name      goal_usd  \\\n",
       "0  successful      US  1609376406  Cookbooks        Food   5000.000000   \n",
       "1  successful      HK  1606278560  Cookbooks        Food  44624.926500   \n",
       "2  successful      ES  1606477096  Cookbooks        Food     54.095050   \n",
       "3  successful      US  1604500905  Cookbooks        Food  65000.000000   \n",
       "4  successful      GB  1605454727  Cookbooks        Food  13823.881138   \n",
       "\n",
       "   total_days_active  launch_time  \n",
       "0          28.036979     1.957378  \n",
       "1          59.978880    30.470127  \n",
       "2          13.294832     3.172101  \n",
       "3          44.984160    19.589896  \n",
       "4          29.989440     6.099334  "
      ]
     },
     "execution_count": 4,
     "metadata": {},
     "output_type": "execute_result"
    }
   ],
   "source": [
    "# create goal_usd column so that all goal amounts are in the same units, drop fx_rate and goals afterward\n",
    "model_data['goal_usd'] = model_data['fx_rate']*model_data['goal']\n",
    "model_data = model_data.drop(columns=['fx_rate', 'goal'])\n",
    "\n",
    "# create total days active column as another metric\n",
    "model_data['total_days_active'] = (model_data.deadline-model_data.launched_at)*0.00001157\n",
    "model_data['launch_time'] = (model_data.launched_at-model_data.created_at)*0.00001157\n",
    "model_data = model_data.drop(columns=['state_changed_at', 'deadline', 'launched_at'])\n",
    "model_data.head()"
   ]
  },
  {
   "cell_type": "code",
   "execution_count": 5,
   "metadata": {},
   "outputs": [
    {
     "data": {
      "text/html": [
       "<div>\n",
       "<style scoped>\n",
       "    .dataframe tbody tr th:only-of-type {\n",
       "        vertical-align: middle;\n",
       "    }\n",
       "\n",
       "    .dataframe tbody tr th {\n",
       "        vertical-align: top;\n",
       "    }\n",
       "\n",
       "    .dataframe thead th {\n",
       "        text-align: right;\n",
       "    }\n",
       "</style>\n",
       "<table border=\"1\" class=\"dataframe\">\n",
       "  <thead>\n",
       "    <tr style=\"text-align: right;\">\n",
       "      <th></th>\n",
       "      <th>state</th>\n",
       "      <th>country</th>\n",
       "      <th>created_at</th>\n",
       "      <th>name</th>\n",
       "      <th>parent_name</th>\n",
       "      <th>goal_usd</th>\n",
       "      <th>total_days_active</th>\n",
       "      <th>launch_time</th>\n",
       "    </tr>\n",
       "  </thead>\n",
       "  <tbody>\n",
       "    <tr>\n",
       "      <th>0</th>\n",
       "      <td>successful</td>\n",
       "      <td>US</td>\n",
       "      <td>1609376406</td>\n",
       "      <td>Cookbooks</td>\n",
       "      <td>Food</td>\n",
       "      <td>5000.000000</td>\n",
       "      <td>28.036979</td>\n",
       "      <td>1.957378</td>\n",
       "    </tr>\n",
       "    <tr>\n",
       "      <th>1</th>\n",
       "      <td>successful</td>\n",
       "      <td>HK</td>\n",
       "      <td>1606278560</td>\n",
       "      <td>Cookbooks</td>\n",
       "      <td>Food</td>\n",
       "      <td>44624.926500</td>\n",
       "      <td>59.978880</td>\n",
       "      <td>30.470127</td>\n",
       "    </tr>\n",
       "    <tr>\n",
       "      <th>2</th>\n",
       "      <td>successful</td>\n",
       "      <td>ES</td>\n",
       "      <td>1606477096</td>\n",
       "      <td>Cookbooks</td>\n",
       "      <td>Food</td>\n",
       "      <td>54.095050</td>\n",
       "      <td>13.294832</td>\n",
       "      <td>3.172101</td>\n",
       "    </tr>\n",
       "    <tr>\n",
       "      <th>3</th>\n",
       "      <td>successful</td>\n",
       "      <td>US</td>\n",
       "      <td>1604500905</td>\n",
       "      <td>Cookbooks</td>\n",
       "      <td>Food</td>\n",
       "      <td>65000.000000</td>\n",
       "      <td>44.984160</td>\n",
       "      <td>19.589896</td>\n",
       "    </tr>\n",
       "    <tr>\n",
       "      <th>4</th>\n",
       "      <td>successful</td>\n",
       "      <td>GB</td>\n",
       "      <td>1605454727</td>\n",
       "      <td>Cookbooks</td>\n",
       "      <td>Food</td>\n",
       "      <td>13823.881138</td>\n",
       "      <td>29.989440</td>\n",
       "      <td>6.099334</td>\n",
       "    </tr>\n",
       "  </tbody>\n",
       "</table>\n",
       "</div>"
      ],
      "text/plain": [
       "        state country  created_at       name parent_name      goal_usd  \\\n",
       "0  successful      US  1609376406  Cookbooks        Food   5000.000000   \n",
       "1  successful      HK  1606278560  Cookbooks        Food  44624.926500   \n",
       "2  successful      ES  1606477096  Cookbooks        Food     54.095050   \n",
       "3  successful      US  1604500905  Cookbooks        Food  65000.000000   \n",
       "4  successful      GB  1605454727  Cookbooks        Food  13823.881138   \n",
       "\n",
       "   total_days_active  launch_time  \n",
       "0          28.036979     1.957378  \n",
       "1          59.978880    30.470127  \n",
       "2          13.294832     3.172101  \n",
       "3          44.984160    19.589896  \n",
       "4          29.989440     6.099334  "
      ]
     },
     "execution_count": 5,
     "metadata": {},
     "output_type": "execute_result"
    }
   ],
   "source": [
    "# drop rows that have state 'live' or 'cancelled'\n",
    "live_projects = model_data[model_data['state'] == 'live']\n",
    "model_data = model_data.drop(model_data[model_data['state'] == 'live'].index, axis=0)\n",
    "model_data = model_data.drop(model_data[model_data['state'] == 'canceled'].index, axis=0)\n",
    "model_data = model_data.reset_index(drop=True)\n",
    "model_data.head()"
   ]
  },
  {
   "cell_type": "markdown",
   "metadata": {},
   "source": [
    "### Encoding of non neumerical features"
   ]
  },
  {
   "cell_type": "code",
   "execution_count": 6,
   "metadata": {},
   "outputs": [],
   "source": [
    "# init encoder for x values\n",
    "encoder = LabelEncoder()\n",
    "\n",
    "# new encoder for y variable (to make sure that we can reverse encoding)\n",
    "y_encoder = LabelEncoder()\n",
    "model_data['state'] = y_encoder.fit_transform(model_data['state'])\n",
    "\n",
    "# encode boolean and string type columns\n",
    "encoding_columns = (model_data.select_dtypes(include=['bool', 'object'])).columns\n",
    "for column in encoding_columns:\n",
    "    model_data[column] = encoder.fit_transform(model_data[column])"
   ]
  },
  {
   "cell_type": "markdown",
   "metadata": {},
   "source": [
    "### Build Validation and training datasets."
   ]
  },
  {
   "cell_type": "code",
   "execution_count": 7,
   "metadata": {},
   "outputs": [
    {
     "data": {
      "text/html": [
       "<div>\n",
       "<style scoped>\n",
       "    .dataframe tbody tr th:only-of-type {\n",
       "        vertical-align: middle;\n",
       "    }\n",
       "\n",
       "    .dataframe tbody tr th {\n",
       "        vertical-align: top;\n",
       "    }\n",
       "\n",
       "    .dataframe thead th {\n",
       "        text-align: right;\n",
       "    }\n",
       "</style>\n",
       "<table border=\"1\" class=\"dataframe\">\n",
       "  <thead>\n",
       "    <tr style=\"text-align: right;\">\n",
       "      <th></th>\n",
       "      <th>state</th>\n",
       "      <th>country</th>\n",
       "      <th>created_at</th>\n",
       "      <th>name</th>\n",
       "      <th>parent_name</th>\n",
       "      <th>goal_usd</th>\n",
       "      <th>total_days_active</th>\n",
       "      <th>launch_time</th>\n",
       "    </tr>\n",
       "  </thead>\n",
       "  <tbody>\n",
       "    <tr>\n",
       "      <th>0</th>\n",
       "      <td>1</td>\n",
       "      <td>24</td>\n",
       "      <td>1609376406</td>\n",
       "      <td>7</td>\n",
       "      <td>4</td>\n",
       "      <td>5000.000000</td>\n",
       "      <td>28.036979</td>\n",
       "      <td>1.957378</td>\n",
       "    </tr>\n",
       "    <tr>\n",
       "      <th>1</th>\n",
       "      <td>1</td>\n",
       "      <td>11</td>\n",
       "      <td>1606278560</td>\n",
       "      <td>7</td>\n",
       "      <td>4</td>\n",
       "      <td>44624.926500</td>\n",
       "      <td>59.978880</td>\n",
       "      <td>30.470127</td>\n",
       "    </tr>\n",
       "    <tr>\n",
       "      <th>2</th>\n",
       "      <td>1</td>\n",
       "      <td>7</td>\n",
       "      <td>1606477096</td>\n",
       "      <td>7</td>\n",
       "      <td>4</td>\n",
       "      <td>54.095050</td>\n",
       "      <td>13.294832</td>\n",
       "      <td>3.172101</td>\n",
       "    </tr>\n",
       "    <tr>\n",
       "      <th>3</th>\n",
       "      <td>1</td>\n",
       "      <td>24</td>\n",
       "      <td>1604500905</td>\n",
       "      <td>7</td>\n",
       "      <td>4</td>\n",
       "      <td>65000.000000</td>\n",
       "      <td>44.984160</td>\n",
       "      <td>19.589896</td>\n",
       "    </tr>\n",
       "    <tr>\n",
       "      <th>4</th>\n",
       "      <td>1</td>\n",
       "      <td>9</td>\n",
       "      <td>1605454727</td>\n",
       "      <td>7</td>\n",
       "      <td>4</td>\n",
       "      <td>13823.881138</td>\n",
       "      <td>29.989440</td>\n",
       "      <td>6.099334</td>\n",
       "    </tr>\n",
       "    <tr>\n",
       "      <th>...</th>\n",
       "      <td>...</td>\n",
       "      <td>...</td>\n",
       "      <td>...</td>\n",
       "      <td>...</td>\n",
       "      <td>...</td>\n",
       "      <td>...</td>\n",
       "      <td>...</td>\n",
       "      <td>...</td>\n",
       "    </tr>\n",
       "    <tr>\n",
       "      <th>28538</th>\n",
       "      <td>0</td>\n",
       "      <td>24</td>\n",
       "      <td>1632678330</td>\n",
       "      <td>33</td>\n",
       "      <td>8</td>\n",
       "      <td>10000.000000</td>\n",
       "      <td>14.994720</td>\n",
       "      <td>3.986328</td>\n",
       "    </tr>\n",
       "    <tr>\n",
       "      <th>28539</th>\n",
       "      <td>0</td>\n",
       "      <td>3</td>\n",
       "      <td>1632726042</td>\n",
       "      <td>33</td>\n",
       "      <td>8</td>\n",
       "      <td>39722.546000</td>\n",
       "      <td>60.020532</td>\n",
       "      <td>2.673549</td>\n",
       "    </tr>\n",
       "    <tr>\n",
       "      <th>28540</th>\n",
       "      <td>0</td>\n",
       "      <td>6</td>\n",
       "      <td>1631517750</td>\n",
       "      <td>33</td>\n",
       "      <td>8</td>\n",
       "      <td>145430.220000</td>\n",
       "      <td>29.989440</td>\n",
       "      <td>15.026699</td>\n",
       "    </tr>\n",
       "    <tr>\n",
       "      <th>28541</th>\n",
       "      <td>0</td>\n",
       "      <td>24</td>\n",
       "      <td>1429554526</td>\n",
       "      <td>23</td>\n",
       "      <td>9</td>\n",
       "      <td>35000.000000</td>\n",
       "      <td>29.989440</td>\n",
       "      <td>8.875729</td>\n",
       "    </tr>\n",
       "    <tr>\n",
       "      <th>28542</th>\n",
       "      <td>0</td>\n",
       "      <td>24</td>\n",
       "      <td>1430004537</td>\n",
       "      <td>23</td>\n",
       "      <td>9</td>\n",
       "      <td>5000.000000</td>\n",
       "      <td>32.988523</td>\n",
       "      <td>2.753093</td>\n",
       "    </tr>\n",
       "  </tbody>\n",
       "</table>\n",
       "<p>28543 rows × 8 columns</p>\n",
       "</div>"
      ],
      "text/plain": [
       "       state  country  created_at  name  parent_name       goal_usd  \\\n",
       "0          1       24  1609376406     7            4    5000.000000   \n",
       "1          1       11  1606278560     7            4   44624.926500   \n",
       "2          1        7  1606477096     7            4      54.095050   \n",
       "3          1       24  1604500905     7            4   65000.000000   \n",
       "4          1        9  1605454727     7            4   13823.881138   \n",
       "...      ...      ...         ...   ...          ...            ...   \n",
       "28538      0       24  1632678330    33            8   10000.000000   \n",
       "28539      0        3  1632726042    33            8   39722.546000   \n",
       "28540      0        6  1631517750    33            8  145430.220000   \n",
       "28541      0       24  1429554526    23            9   35000.000000   \n",
       "28542      0       24  1430004537    23            9    5000.000000   \n",
       "\n",
       "       total_days_active  launch_time  \n",
       "0              28.036979     1.957378  \n",
       "1              59.978880    30.470127  \n",
       "2              13.294832     3.172101  \n",
       "3              44.984160    19.589896  \n",
       "4              29.989440     6.099334  \n",
       "...                  ...          ...  \n",
       "28538          14.994720     3.986328  \n",
       "28539          60.020532     2.673549  \n",
       "28540          29.989440    15.026699  \n",
       "28541          29.989440     8.875729  \n",
       "28542          32.988523     2.753093  \n",
       "\n",
       "[28543 rows x 8 columns]"
      ]
     },
     "execution_count": 7,
     "metadata": {},
     "output_type": "execute_result"
    }
   ],
   "source": [
    "# Drop NA's\n",
    "model_data = model_data.dropna()\n",
    "model_data"
   ]
  },
  {
   "cell_type": "markdown",
   "metadata": {},
   "source": [
    "### Train/test splits for Test and Validation models."
   ]
  },
  {
   "cell_type": "code",
   "execution_count": 8,
   "metadata": {},
   "outputs": [],
   "source": [
    "# split into X and y variables\n",
    "X = model_data.drop(columns=['state'])\n",
    "y = model_data.state\n",
    "\n",
    "# generate 70% train/test split \n",
    "X_train, X_test, y_train, y_test = train_test_split(X, y, test_size=0.3,\n",
    "                                                       random_state = 1,\n",
    "                                                       stratify = y)"
   ]
  },
  {
   "cell_type": "markdown",
   "metadata": {},
   "source": [
    "### Scale values using standard scaler"
   ]
  },
  {
   "cell_type": "code",
   "execution_count": 9,
   "metadata": {},
   "outputs": [
    {
     "data": {
      "text/html": [
       "<div>\n",
       "<style scoped>\n",
       "    .dataframe tbody tr th:only-of-type {\n",
       "        vertical-align: middle;\n",
       "    }\n",
       "\n",
       "    .dataframe tbody tr th {\n",
       "        vertical-align: top;\n",
       "    }\n",
       "\n",
       "    .dataframe thead th {\n",
       "        text-align: right;\n",
       "    }\n",
       "</style>\n",
       "<table border=\"1\" class=\"dataframe\">\n",
       "  <thead>\n",
       "    <tr style=\"text-align: right;\">\n",
       "      <th></th>\n",
       "      <th>country</th>\n",
       "      <th>created_at</th>\n",
       "      <th>name</th>\n",
       "      <th>parent_name</th>\n",
       "      <th>goal_usd</th>\n",
       "      <th>total_days_active</th>\n",
       "      <th>launch_time</th>\n",
       "    </tr>\n",
       "  </thead>\n",
       "  <tbody>\n",
       "    <tr>\n",
       "      <th>0</th>\n",
       "      <td>0.63176</td>\n",
       "      <td>1.325536</td>\n",
       "      <td>0.522041</td>\n",
       "      <td>-1.130818</td>\n",
       "      <td>-0.033591</td>\n",
       "      <td>-0.258852</td>\n",
       "      <td>0.576642</td>\n",
       "    </tr>\n",
       "    <tr>\n",
       "      <th>1</th>\n",
       "      <td>0.63176</td>\n",
       "      <td>-1.124011</td>\n",
       "      <td>-0.981750</td>\n",
       "      <td>-0.411787</td>\n",
       "      <td>-0.030914</td>\n",
       "      <td>-0.262219</td>\n",
       "      <td>-0.337408</td>\n",
       "    </tr>\n",
       "    <tr>\n",
       "      <th>2</th>\n",
       "      <td>0.63176</td>\n",
       "      <td>0.734846</td>\n",
       "      <td>-0.451000</td>\n",
       "      <td>-1.490333</td>\n",
       "      <td>-0.025561</td>\n",
       "      <td>0.088453</td>\n",
       "      <td>0.467401</td>\n",
       "    </tr>\n",
       "    <tr>\n",
       "      <th>3</th>\n",
       "      <td>0.63176</td>\n",
       "      <td>-1.039018</td>\n",
       "      <td>-0.804834</td>\n",
       "      <td>0.666759</td>\n",
       "      <td>-0.032922</td>\n",
       "      <td>-0.262219</td>\n",
       "      <td>0.309851</td>\n",
       "    </tr>\n",
       "    <tr>\n",
       "      <th>4</th>\n",
       "      <td>0.63176</td>\n",
       "      <td>1.222336</td>\n",
       "      <td>0.964333</td>\n",
       "      <td>-0.411787</td>\n",
       "      <td>-0.034260</td>\n",
       "      <td>-0.204127</td>\n",
       "      <td>-0.154006</td>\n",
       "    </tr>\n",
       "  </tbody>\n",
       "</table>\n",
       "</div>"
      ],
      "text/plain": [
       "   country  created_at      name  parent_name  goal_usd  total_days_active  \\\n",
       "0  0.63176    1.325536  0.522041    -1.130818 -0.033591          -0.258852   \n",
       "1  0.63176   -1.124011 -0.981750    -0.411787 -0.030914          -0.262219   \n",
       "2  0.63176    0.734846 -0.451000    -1.490333 -0.025561           0.088453   \n",
       "3  0.63176   -1.039018 -0.804834     0.666759 -0.032922          -0.262219   \n",
       "4  0.63176    1.222336  0.964333    -0.411787 -0.034260          -0.204127   \n",
       "\n",
       "   launch_time  \n",
       "0     0.576642  \n",
       "1    -0.337408  \n",
       "2     0.467401  \n",
       "3     0.309851  \n",
       "4    -0.154006  "
      ]
     },
     "execution_count": 9,
     "metadata": {},
     "output_type": "execute_result"
    }
   ],
   "source": [
    "# init standard scaler\n",
    "scaler = StandardScaler()\n",
    "\n",
    "# scale Train and testing set, columns=X.columns to keep column headers.\n",
    "X_train_scaled = pd.DataFrame(scaler.fit_transform(X_train), columns=X.columns)\n",
    "X_test_scaled = pd.DataFrame(scaler.transform(X_test), columns=X.columns)\n",
    "X_train_scaled.head()"
   ]
  },
  {
   "cell_type": "markdown",
   "metadata": {},
   "source": [
    "---\n",
    "\n",
    "# Random Forest Classifier"
   ]
  },
  {
   "cell_type": "code",
   "execution_count": 10,
   "metadata": {},
   "outputs": [
    {
     "data": {
      "text/plain": [
       "RandomForestClassifier()"
      ]
     },
     "execution_count": 10,
     "metadata": {},
     "output_type": "execute_result"
    }
   ],
   "source": [
    "# init and fit RF classifier\n",
    "rf_classifier = RandomForestClassifier()\n",
    "rf_classifier.fit(X_train_scaled, y_train)"
   ]
  },
  {
   "cell_type": "code",
   "execution_count": 11,
   "metadata": {},
   "outputs": [],
   "source": [
    "# perform predictions on testing and validation data\n",
    "predictions  = rf_classifier.predict(X_test_scaled)"
   ]
  },
  {
   "cell_type": "code",
   "execution_count": 12,
   "metadata": {},
   "outputs": [],
   "source": [
    "# decode values using inverse transform\n",
    "rf_predictions_decoded = y_encoder.inverse_transform(predictions)\n",
    "y_test_decoded = y_encoder.inverse_transform(y_test)"
   ]
  },
  {
   "cell_type": "code",
   "execution_count": 13,
   "metadata": {},
   "outputs": [
    {
     "data": {
      "text/html": [
       "<div>\n",
       "<style scoped>\n",
       "    .dataframe tbody tr th:only-of-type {\n",
       "        vertical-align: middle;\n",
       "    }\n",
       "\n",
       "    .dataframe tbody tr th {\n",
       "        vertical-align: top;\n",
       "    }\n",
       "\n",
       "    .dataframe thead th {\n",
       "        text-align: right;\n",
       "    }\n",
       "</style>\n",
       "<table border=\"1\" class=\"dataframe\">\n",
       "  <thead>\n",
       "    <tr style=\"text-align: right;\">\n",
       "      <th></th>\n",
       "      <th>Importance value</th>\n",
       "    </tr>\n",
       "    <tr>\n",
       "      <th>Feature</th>\n",
       "      <th></th>\n",
       "    </tr>\n",
       "  </thead>\n",
       "  <tbody>\n",
       "    <tr>\n",
       "      <th>country</th>\n",
       "      <td>0.039955</td>\n",
       "    </tr>\n",
       "    <tr>\n",
       "      <th>created_at</th>\n",
       "      <td>0.200986</td>\n",
       "    </tr>\n",
       "    <tr>\n",
       "      <th>name</th>\n",
       "      <td>0.216652</td>\n",
       "    </tr>\n",
       "    <tr>\n",
       "      <th>parent_name</th>\n",
       "      <td>0.086941</td>\n",
       "    </tr>\n",
       "    <tr>\n",
       "      <th>goal_usd</th>\n",
       "      <td>0.163216</td>\n",
       "    </tr>\n",
       "    <tr>\n",
       "      <th>total_days_active</th>\n",
       "      <td>0.111844</td>\n",
       "    </tr>\n",
       "    <tr>\n",
       "      <th>launch_time</th>\n",
       "      <td>0.180405</td>\n",
       "    </tr>\n",
       "  </tbody>\n",
       "</table>\n",
       "</div>"
      ],
      "text/plain": [
       "                   Importance value\n",
       "Feature                            \n",
       "country                    0.039955\n",
       "created_at                 0.200986\n",
       "name                       0.216652\n",
       "parent_name                0.086941\n",
       "goal_usd                   0.163216\n",
       "total_days_active          0.111844\n",
       "launch_time                0.180405"
      ]
     },
     "execution_count": 13,
     "metadata": {},
     "output_type": "execute_result"
    }
   ],
   "source": [
    "# view model importance of features for the model\n",
    "importances = pd.DataFrame(zip(X.columns, rf_classifier.feature_importances_), columns = ['Feature','Importance value']).set_index('Feature')\n",
    "importances"
   ]
  },
  {
   "cell_type": "code",
   "execution_count": 14,
   "metadata": {},
   "outputs": [
    {
     "name": "stdout",
     "output_type": "stream",
     "text": [
      "              precision    recall  f1-score   support\n",
      "\n",
      "      failed       0.76      0.72      0.74      2799\n",
      "  successful       0.87      0.89      0.88      5764\n",
      "\n",
      "    accuracy                           0.83      8563\n",
      "   macro avg       0.81      0.81      0.81      8563\n",
      "weighted avg       0.83      0.83      0.83      8563\n",
      "\n"
     ]
    }
   ],
   "source": [
    "# classification reports for the test and validation set\n",
    "rf_report = classification_report(y_test_decoded, rf_predictions_decoded)\n",
    "print (rf_report)"
   ]
  },
  {
   "cell_type": "code",
   "execution_count": 15,
   "metadata": {},
   "outputs": [
    {
     "data": {
      "text/html": [
       "<div>\n",
       "<style scoped>\n",
       "    .dataframe tbody tr th:only-of-type {\n",
       "        vertical-align: middle;\n",
       "    }\n",
       "\n",
       "    .dataframe tbody tr th {\n",
       "        vertical-align: top;\n",
       "    }\n",
       "\n",
       "    .dataframe thead th {\n",
       "        text-align: right;\n",
       "    }\n",
       "</style>\n",
       "<table border=\"1\" class=\"dataframe\">\n",
       "  <thead>\n",
       "    <tr style=\"text-align: right;\">\n",
       "      <th></th>\n",
       "      <th>Failed</th>\n",
       "      <th>Successful</th>\n",
       "    </tr>\n",
       "  </thead>\n",
       "  <tbody>\n",
       "    <tr>\n",
       "      <th>Failed</th>\n",
       "      <td>2027</td>\n",
       "      <td>772</td>\n",
       "    </tr>\n",
       "    <tr>\n",
       "      <th>Successful</th>\n",
       "      <td>653</td>\n",
       "      <td>5111</td>\n",
       "    </tr>\n",
       "  </tbody>\n",
       "</table>\n",
       "</div>"
      ],
      "text/plain": [
       "            Failed  Successful\n",
       "Failed        2027         772\n",
       "Successful     653        5111"
      ]
     },
     "execution_count": 15,
     "metadata": {},
     "output_type": "execute_result"
    }
   ],
   "source": [
    "# view confusion matrix (0=failed, 1=success)\n",
    "rf_cm = pd.DataFrame(confusion_matrix(y_test_decoded, rf_predictions_decoded), index=['Failed', 'Successful'], columns=['Failed', 'Successful'])\n",
    "rf_cm"
   ]
  },
  {
   "cell_type": "code",
   "execution_count": 16,
   "metadata": {},
   "outputs": [],
   "source": [
    "# Calculate the ROC curve and AUC for the testing set\n",
    "fpr_test, tpr_test, thresholds_test = roc_curve(y_test, predictions)\n",
    "auc_test = round(auc(fpr_test, tpr_test), 3)\n",
    "\n",
    "# Create a DataFrame with the fpr and tpr results\n",
    "roc_df_test = pd.DataFrame({\"FPR Test\": fpr_test, \"TPR Test\": tpr_test})"
   ]
  },
  {
   "cell_type": "code",
   "execution_count": 17,
   "metadata": {},
   "outputs": [
    {
     "data": {
      "text/plain": [
       "<AxesSubplot:title={'center':'Test ROC Curve (AUC=0.805)'}, xlabel='FPR Test'>"
      ]
     },
     "execution_count": 17,
     "metadata": {},
     "output_type": "execute_result"
    },
    {
     "data": {
      "image/png": "[encoded data removed]",
      "text/plain": [
       "<Figure size 720x432 with 1 Axes>"
      ]
     },
     "metadata": {
      "needs_background": "light"
     },
     "output_type": "display_data"
    }
   ],
   "source": [
    "# Plot test set ROC curve\n",
    "roc_df_test.plot(figsize = (10,6), x=\"FPR Test\", y=\"TPR Test\", title=f\"Test ROC Curve (AUC={auc_test})\")"
   ]
  },
  {
   "cell_type": "markdown",
   "metadata": {},
   "source": [
    "---\n",
    "\n",
    "# SVM Classifier"
   ]
  },
  {
   "cell_type": "code",
   "execution_count": 18,
   "metadata": {},
   "outputs": [
    {
     "data": {
      "text/plain": [
       "SVC(kernel='linear', max_iter=500)"
      ]
     },
     "execution_count": 18,
     "metadata": {},
     "output_type": "execute_result"
    }
   ],
   "source": [
    "svm_classifier = SVC(kernel='linear', max_iter=500)\n",
    "svm_classifier"
   ]
  },
  {
   "cell_type": "code",
   "execution_count": 19,
   "metadata": {},
   "outputs": [
    {
     "name": "stderr",
     "output_type": "stream",
     "text": [
      "/Users/stuartperry/opt/anaconda3/envs/dev/lib/python3.7/site-packages/sklearn/svm/_base.py:289: ConvergenceWarning: Solver terminated early (max_iter=500).  Consider pre-processing your data with StandardScaler or MinMaxScaler.\n",
      "  ConvergenceWarning,\n"
     ]
    },
    {
     "data": {
      "text/plain": [
       "SVC(kernel='linear', max_iter=500)"
      ]
     },
     "execution_count": 19,
     "metadata": {},
     "output_type": "execute_result"
    }
   ],
   "source": [
    "svm_classifier.fit(X_train_scaled, y_train)"
   ]
  },
  {
   "cell_type": "code",
   "execution_count": 20,
   "metadata": {},
   "outputs": [
    {
     "data": {
      "text/plain": [
       "0.5767767767767767"
      ]
     },
     "execution_count": 20,
     "metadata": {},
     "output_type": "execute_result"
    }
   ],
   "source": [
    "# Score the accuracy\n",
    "svm_classifier.score(X_train_scaled, y_train)"
   ]
  },
  {
   "cell_type": "code",
   "execution_count": 21,
   "metadata": {},
   "outputs": [],
   "source": [
    "# Make predictions using the test data\n",
    "svm_predictions = svm_classifier.predict(X_test_scaled)\n",
    "svm_predictions_decoded = y_encoder.inverse_transform(svm_predictions)"
   ]
  },
  {
   "cell_type": "code",
   "execution_count": 22,
   "metadata": {},
   "outputs": [
    {
     "data": {
      "text/html": [
       "<div>\n",
       "<style scoped>\n",
       "    .dataframe tbody tr th:only-of-type {\n",
       "        vertical-align: middle;\n",
       "    }\n",
       "\n",
       "    .dataframe tbody tr th {\n",
       "        vertical-align: top;\n",
       "    }\n",
       "\n",
       "    .dataframe thead th {\n",
       "        text-align: right;\n",
       "    }\n",
       "</style>\n",
       "<table border=\"1\" class=\"dataframe\">\n",
       "  <thead>\n",
       "    <tr style=\"text-align: right;\">\n",
       "      <th></th>\n",
       "      <th>Failed</th>\n",
       "      <th>Successful</th>\n",
       "    </tr>\n",
       "  </thead>\n",
       "  <tbody>\n",
       "    <tr>\n",
       "      <th>Failed</th>\n",
       "      <td>891</td>\n",
       "      <td>1908</td>\n",
       "    </tr>\n",
       "    <tr>\n",
       "      <th>Successful</th>\n",
       "      <td>1650</td>\n",
       "      <td>4114</td>\n",
       "    </tr>\n",
       "  </tbody>\n",
       "</table>\n",
       "</div>"
      ],
      "text/plain": [
       "            Failed  Successful\n",
       "Failed         891        1908\n",
       "Successful    1650        4114"
      ]
     },
     "execution_count": 22,
     "metadata": {},
     "output_type": "execute_result"
    }
   ],
   "source": [
    "# Display the confusion matrix\n",
    "svm_cm = confusion_matrix(y_test_decoded, svm_predictions_decoded)\n",
    "svm_cm = pd.DataFrame(confusion_matrix(y_test_decoded, svm_predictions_decoded), index=['Failed', 'Successful'], columns=['Failed', 'Successful'])\n",
    "svm_cm"
   ]
  },
  {
   "cell_type": "code",
   "execution_count": 23,
   "metadata": {},
   "outputs": [
    {
     "name": "stdout",
     "output_type": "stream",
     "text": [
      "              precision    recall  f1-score   support\n",
      "\n",
      "      failed       0.35      0.32      0.33      2799\n",
      "  successful       0.68      0.71      0.70      5764\n",
      "\n",
      "    accuracy                           0.58      8563\n",
      "   macro avg       0.52      0.52      0.52      8563\n",
      "weighted avg       0.57      0.58      0.58      8563\n",
      "\n"
     ]
    }
   ],
   "source": [
    "# Calculate classification report\n",
    "print(classification_report(y_test_decoded, svm_predictions_decoded))"
   ]
  },
  {
   "cell_type": "markdown",
   "metadata": {},
   "source": [
    "---\n",
    "# SKLearn Neural Network Classifier"
   ]
  },
  {
   "cell_type": "code",
   "execution_count": 24,
   "metadata": {},
   "outputs": [],
   "source": [
    "# init and fit Neural Networks classifier\n",
    "nn_classifier = MLPClassifier(solver='lbfgs', alpha=1e-5, hidden_layer_sizes=(4, 2), random_state=1)"
   ]
  },
  {
   "cell_type": "code",
   "execution_count": 25,
   "metadata": {},
   "outputs": [
    {
     "name": "stderr",
     "output_type": "stream",
     "text": [
      "/Users/stuartperry/opt/anaconda3/envs/dev/lib/python3.7/site-packages/sklearn/neural_network/_multilayer_perceptron.py:549: ConvergenceWarning: lbfgs failed to converge (status=1):\n",
      "STOP: TOTAL NO. of ITERATIONS REACHED LIMIT.\n",
      "\n",
      "Increase the number of iterations (max_iter) or scale the data as shown in:\n",
      "    https://scikit-learn.org/stable/modules/preprocessing.html\n",
      "  self.n_iter_ = _check_optimize_result(\"lbfgs\", opt_res, self.max_iter)\n"
     ]
    },
    {
     "data": {
      "text/plain": [
       "MLPClassifier(alpha=1e-05, hidden_layer_sizes=(4, 2), random_state=1,\n",
       "              solver='lbfgs')"
      ]
     },
     "execution_count": 25,
     "metadata": {},
     "output_type": "execute_result"
    }
   ],
   "source": [
    "# Fit the data\n",
    "nn_classifier.fit(X_train_scaled, y_train)"
   ]
  },
  {
   "cell_type": "code",
   "execution_count": 26,
   "metadata": {},
   "outputs": [
    {
     "data": {
      "text/plain": [
       "0.7662034333761533"
      ]
     },
     "execution_count": 26,
     "metadata": {},
     "output_type": "execute_result"
    }
   ],
   "source": [
    "nn_classifier.score(X_test_scaled, y_test)"
   ]
  },
  {
   "cell_type": "code",
   "execution_count": 27,
   "metadata": {},
   "outputs": [],
   "source": [
    "# Make predictions using the test data\n",
    "nn_predictions = nn_classifier.predict(X_test_scaled)\n",
    "nn_predictions_decoded = y_encoder.inverse_transform(nn_predictions)"
   ]
  },
  {
   "cell_type": "code",
   "execution_count": 28,
   "metadata": {},
   "outputs": [
    {
     "data": {
      "text/html": [
       "<div>\n",
       "<style scoped>\n",
       "    .dataframe tbody tr th:only-of-type {\n",
       "        vertical-align: middle;\n",
       "    }\n",
       "\n",
       "    .dataframe tbody tr th {\n",
       "        vertical-align: top;\n",
       "    }\n",
       "\n",
       "    .dataframe thead th {\n",
       "        text-align: right;\n",
       "    }\n",
       "</style>\n",
       "<table border=\"1\" class=\"dataframe\">\n",
       "  <thead>\n",
       "    <tr style=\"text-align: right;\">\n",
       "      <th></th>\n",
       "      <th>Failed</th>\n",
       "      <th>Successful</th>\n",
       "    </tr>\n",
       "  </thead>\n",
       "  <tbody>\n",
       "    <tr>\n",
       "      <th>Failed</th>\n",
       "      <td>1560</td>\n",
       "      <td>1239</td>\n",
       "    </tr>\n",
       "    <tr>\n",
       "      <th>Successful</th>\n",
       "      <td>763</td>\n",
       "      <td>5001</td>\n",
       "    </tr>\n",
       "  </tbody>\n",
       "</table>\n",
       "</div>"
      ],
      "text/plain": [
       "            Failed  Successful\n",
       "Failed        1560        1239\n",
       "Successful     763        5001"
      ]
     },
     "execution_count": 28,
     "metadata": {},
     "output_type": "execute_result"
    }
   ],
   "source": [
    "# Display the confusion matrix\n",
    "nn_cm = confusion_matrix(y_test_decoded, nn_predictions_decoded)\n",
    "nn_cm = pd.DataFrame(confusion_matrix(y_test_decoded, nn_predictions_decoded), index=['Failed', 'Successful'], columns=['Failed', 'Successful'])\n",
    "nn_cm"
   ]
  },
  {
   "cell_type": "code",
   "execution_count": 29,
   "metadata": {},
   "outputs": [
    {
     "name": "stdout",
     "output_type": "stream",
     "text": [
      "              precision    recall  f1-score   support\n",
      "\n",
      "      failed       0.67      0.56      0.61      2799\n",
      "  successful       0.80      0.87      0.83      5764\n",
      "\n",
      "    accuracy                           0.77      8563\n",
      "   macro avg       0.74      0.71      0.72      8563\n",
      "weighted avg       0.76      0.77      0.76      8563\n",
      "\n"
     ]
    }
   ],
   "source": [
    "# Calculate classification report\n",
    "print(classification_report(y_test_decoded, nn_predictions_decoded))"
   ]
  },
  {
   "cell_type": "markdown",
   "metadata": {},
   "source": [
    "---\n",
    " # XGBoost Classifier"
   ]
  },
  {
   "cell_type": "code",
   "execution_count": 30,
   "metadata": {},
   "outputs": [],
   "source": [
    "# init datasets as XGB matrices\n",
    "xgb_train = xgb.DMatrix(np.array(X_train_scaled), label=np.array(y_train))\n",
    "xgb_test = xgb.DMatrix(np.array(X_test_scaled), label=np.array(y_test))\n",
    "\n",
    "# specify parameters via map\n",
    "param = {\n",
    "    'max_depth':5, \n",
    "    'eta':1, \n",
    "    'num_class':2, \n",
    "    'gamma':0,\n",
    "    'max_depth':6,\n",
    "    'min_child_weight':10,\n",
    "    'num_parallel_tree':1\n",
    "    }\n",
    "num_round = 5\n",
    "\n",
    "# fit XGB classifier\n",
    "xgb_classifier = xgb.train(param, xgb_train, num_round)"
   ]
  },
  {
   "cell_type": "code",
   "execution_count": 31,
   "metadata": {},
   "outputs": [],
   "source": [
    "# generate predictions\n",
    "xgb_predictions = xgb_classifier.predict(xgb_test).astype(int)"
   ]
  },
  {
   "cell_type": "code",
   "execution_count": 32,
   "metadata": {},
   "outputs": [],
   "source": [
    "xgb_predictions_decoded = y_encoder.inverse_transform(xgb_predictions)"
   ]
  },
  {
   "cell_type": "code",
   "execution_count": 33,
   "metadata": {},
   "outputs": [
    {
     "data": {
      "text/html": [
       "<div>\n",
       "<style scoped>\n",
       "    .dataframe tbody tr th:only-of-type {\n",
       "        vertical-align: middle;\n",
       "    }\n",
       "\n",
       "    .dataframe tbody tr th {\n",
       "        vertical-align: top;\n",
       "    }\n",
       "\n",
       "    .dataframe thead th {\n",
       "        text-align: right;\n",
       "    }\n",
       "</style>\n",
       "<table border=\"1\" class=\"dataframe\">\n",
       "  <thead>\n",
       "    <tr style=\"text-align: right;\">\n",
       "      <th></th>\n",
       "      <th>Failed</th>\n",
       "      <th>Successful</th>\n",
       "    </tr>\n",
       "  </thead>\n",
       "  <tbody>\n",
       "    <tr>\n",
       "      <th>Failed</th>\n",
       "      <td>1947</td>\n",
       "      <td>852</td>\n",
       "    </tr>\n",
       "    <tr>\n",
       "      <th>Successful</th>\n",
       "      <td>639</td>\n",
       "      <td>5125</td>\n",
       "    </tr>\n",
       "  </tbody>\n",
       "</table>\n",
       "</div>"
      ],
      "text/plain": [
       "            Failed  Successful\n",
       "Failed        1947         852\n",
       "Successful     639        5125"
      ]
     },
     "execution_count": 33,
     "metadata": {},
     "output_type": "execute_result"
    }
   ],
   "source": [
    "# Display the confusion matrix\n",
    "xgb_cm = confusion_matrix(y_test_decoded, xgb_predictions_decoded)\n",
    "xgb_cm = pd.DataFrame(confusion_matrix(y_test_decoded, xgb_predictions_decoded), index=['Failed', 'Successful'], columns=['Failed', 'Successful'])\n",
    "xgb_cm"
   ]
  },
  {
   "cell_type": "code",
   "execution_count": 34,
   "metadata": {},
   "outputs": [
    {
     "name": "stdout",
     "output_type": "stream",
     "text": [
      "              precision    recall  f1-score   support\n",
      "\n",
      "      failed       0.75      0.70      0.72      2799\n",
      "  successful       0.86      0.89      0.87      5764\n",
      "\n",
      "    accuracy                           0.83      8563\n",
      "   macro avg       0.81      0.79      0.80      8563\n",
      "weighted avg       0.82      0.83      0.82      8563\n",
      "\n"
     ]
    }
   ],
   "source": [
    "# Calculate classification report\n",
    "print(classification_report(y_test_decoded, xgb_predictions_decoded))"
   ]
  }
 ],
 "metadata": {
  "interpreter": {
   "hash": "097c1c50147d69c70dea14784d774fa19f0c571c55d8af2791c45a24b5968fed"
  },
  "kernelspec": {
   "display_name": "Python 3.7.7 ('dev')",
   "language": "python",
   "name": "python3"
  },
  "language_info": {
   "codemirror_mode": {
    "name": "ipython",
    "version": 3
   },
   "file_extension": ".py",
   "mimetype": "text/x-python",
   "name": "python",
   "nbconvert_exporter": "python",
   "pygments_lexer": "ipython3",
   "version": "3.7.7"
  }
 },
 "nbformat": 4,
 "nbformat_minor": 2
}
